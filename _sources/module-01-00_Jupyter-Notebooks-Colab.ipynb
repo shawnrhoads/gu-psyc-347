{
 "cells": [
  {
   "cell_type": "markdown",
   "metadata": {},
   "source": [
    "<a target=\"_blank\" rel=\"noopener noreferrer\" href=\"https://colab.research.google.com/github/shawnrhoads/gu-psyc-347/blob/master/docs/module-01-00_Jupyter-Notebooks-Colab.ipynb\">![Open In Colab](https://colab.research.google.com/assets/colab-badge.svg)</a>\n",
    "\n",
    "\n",
    "# Jupyter Notebooks\n",
    "\n",
    "Throughout the semester, we will work on exercises using the Python programming langugage and Jupyter Notebooks.\n",
    "\n",
    "## What are Jupyter Notebooks?\n",
    "\n",
    "<blockquote>\n",
    "<b>From <u><a href=\"https://realpython.com/jupyter-notebook-introduction\">Jupyer Notebook: An Introduction</a></u></b>\n",
    "<p>The Jupyter Notebook is an open source web application that you can use to create and share documents that contain live code, equations, visualizations, and text. Jupyter Notebook is maintained by the people at <a href=\"http://jupyter.org/\">Project Jupyter</a>.</p>\n",
    "\n",
    "<p>Jupyter Notebooks are a spin-off project from the IPython project, which used to have an IPython Notebook project itself. The name, Jupyter, comes from the core supported programming languages that it supports: Julia, Python, and R. Jupyter ships with the IPython kernel, which allows you to write your programs in Python, but there are currently over 100 other kernels that you can also use.</p>\n",
    "</blockquote>\n",
    "\n",
    "[Anaconda](https://www.anaconda.com/) (which we've just downloaded) comes with many scientific libraries preinstalled, including the Jupyter Notebook!\n"
   ]
  },
  {
   "cell_type": "markdown",
   "metadata": {},
   "source": [
    "## Starting a Jupyter Notebook server\n",
    "1. Open your terminal application (**Terminal** on MacOS, **Anaconda Prompt** on Windows)\n",
    "2. Change your current directory to a location on your computer where you would like to save your notebook (for example: `cd /Users/home/notebooks`)\n",
    "3. Run the command `jupyter notebook` which will start your default browser (or open a new tab) to the following URL: http://localhost:8888/tree\n",
    "\n",
    "![OpenIPYNB](https://raw.githubusercontent.com/Summer-MIND/mind_2018/master/tutorials/jupyter/demo.gif)"
   ]
  },
  {
   "cell_type": "markdown",
   "metadata": {},
   "source": [
    "## Interactive Coding!!\n",
    "We will use Jupyter Notebooks to interface with Python. Rather than keeping code scripts code and execution separate, Jupyter integrates both together using the concept of cells. Two main types of cells are **code cells** and **markdown cells**. Cells pair \"snippets\" of code with the output obtained from running them and can contain plots/figures inline alongside code required to generate them.\n",
    "\n",
    "**Code cells** contain actual code that you want to run. You can specify a cell as a code cell using the pulldown menu in the toolbar in your Jupyter notebook. Otherwise, you can can hit esc and then y (denoted \"*esc, y*\") while a cell is selected to specify that it is a code cell. Note that you will have to hit enter after doing this to start editing it. If you want to execute the code in a code cell, hit \"*shift + enter*\". Note that code cells are executed in the order you execute them. That is to say, the ordering of the cells for which you hit \"*shift + enter*\" is the order in which the code is executed. If you did not explicitly execute a cell early in the document, its results are now known to the Python interpreter.\n",
    "\n",
    "**Markdown cells** contain text. The text is written in Markdown, a lightweight markup language. You can read about its syntax [here](https://daringfireball.net/projects/markdown/syntax). Note that you can also insert HTML into markdown cells, and this will be rendered properly. As you are typing the contents of these cells, the results appear as text. Hitting \"*shift + enter*\" renders the text in the formatting you specify. You can specify a cell as being a markdown cell in the Jupyter toolbar, or by hitting \"*esc, m*\" in the cell. Again, you have to hit enter after using the quick keys to bring the cell into edit mode.\n",
    "\n",
    "In general, when you want to add a new cell, you can use the \"Insert\" pulldown menu from the Jupyter toolbar. The shortcut to insert a cell below is \"*esc, b*\" and to insert a cell above is \"*esc, a*\". Alternatively, you can execute a cell and automatically add a new one below it by hitting \"*alt + enter*\"."
   ]
  },
  {
   "cell_type": "code",
   "execution_count": null,
   "metadata": {},
   "outputs": [],
   "source": [
    "# This is a code cell\n",
    "# Put some code here and get some output below!\n",
    "x = 10\n",
    "print(x)"
   ]
  },
  {
   "cell_type": "markdown",
   "metadata": {},
   "source": [
    "## Notebooks of the Future\n",
    "Not just for code:\n",
    "- Markdown, HTML, LaTeX integration\n",
    "- Slide shows\n",
    "- Keep your notes alongside your analysis routines\n",
    "- Embed images, videos, anything (it's all just HTML + javascript)"
   ]
  },
  {
   "cell_type": "markdown",
   "metadata": {},
   "source": [
    "### Markdown\n",
    "See this [comprehensive guide to Markdown](https://github.com/adam-p/markdown-here/wiki/Markdown-Cheatsheet). Here are some examples:\n",
    "\n",
    "#### Emphasis\n",
    "Emphasis, aka italics, with *asterisks*.\n",
    "\n",
    "Strong emphasis, aka bold, with **asterisks**.\n",
    "\n",
    "Combined emphasis with ***asterisks***.\n",
    "\n",
    "Strikethrough uses two tildes. ~~Scratch this.~~\n",
    "\n",
    "The text above looks like this behind the scenes:\n",
    "```\n",
    "Emphasis, aka italics, with *asterisks*.\n",
    "\n",
    "Strong emphasis, aka bold, with **asterisks**.\n",
    "\n",
    "Combined emphasis with ***asterisks***.\n",
    "\n",
    "Strikethrough uses two tildes. ~~Scratch this.~~\n",
    "```\n",
    "\n",
    "#### Links\n",
    "[I'm an inline-style link](https://www.google.com)\n",
    "\n",
    "[I'm a reference-style link][Arbitrary case-insensitive reference text]\n",
    "\n",
    "[You can use numbers for reference-style link definitions][1]\n",
    "\n",
    "Or leave it empty and use the [link text itself]\n",
    "\n",
    "URLs and URLs in angle brackets will automatically get turned into links. \n",
    "http://www.example.com or <http://www.example.com> and sometimes \n",
    "example.com (but not on Github, for example).\n",
    "\n",
    "The text above looks like this behind the scenes:\n",
    "```\n",
    "[I'm an inline-style link](https://www.google.com)\n",
    "\n",
    "[I'm a reference-style link][Arbitrary case-insensitive reference text]\n",
    "\n",
    "[You can use numbers for reference-style link definitions][1]\n",
    "\n",
    "Or leave it empty and use the [link text itself]\n",
    "\n",
    "URLs and URLs in angle brackets will automatically get turned into links. \n",
    "http://www.example.com or <http://www.example.com> and sometimes \n",
    "example.com (but not on Github, for example).\n",
    "\n",
    "Some text to show that the reference links can follow later.\n",
    "```\n",
    "\n",
    "\n",
    "To reference the links above, we include the following text:\n",
    "\n",
    "[arbitrary case-insensitive reference text]: https://shawnrhoads.github.io/gu-psyc-347/\n",
    "[1]: https://shawnrhoads.github.io/gu-psyc-347/\n",
    "[link text itself]: https://shawnrhoads.github.io/gu-psyc-347/\n",
    "\n",
    "```\n",
    "[arbitrary case-insensitive reference text]: https://shawnrhoads.github.io/gu-psyc-347/\n",
    "[1]: https://shawnrhoads.github.io/gu-psyc-347/\n",
    "[link text itself]: https://shawnrhoads.github.io/gu-psyc-347/\n",
    "```\n",
    "\n",
    "#### Tables\n",
    "Colons can be used to align columns.\n",
    "\n",
    "| Tables        | Are           | Cool  |\n",
    "| :------------ |:-------------:| -----:|\n",
    "| col 1 is      | left-aligned  |     A |\n",
    "| col 3 is      | right-aligned |     B |\n",
    "| col 2 is      | centered      |     C |\n",
    "\n",
    "The outer pipes (|) are optional, and you don't need to make the raw Markdown pretty. You can also use inline Markdown.\n",
    "\n",
    "Markdown | Less | Pretty\n",
    "--- | --- | ---\n",
    "*Still* | `renders` | **nicely**\n",
    "1 | 2 | 3\n",
    "\n",
    "The text above looks like this behind the scenes:\n",
    "```\n",
    "Colons can be used to align columns.\n",
    "\n",
    "| Tables        | Are           | Cool  |\n",
    "| :------------ |:-------------:| -----:|\n",
    "| col 1 is      | left-aligned  |     A |\n",
    "| col 3 is      | right-aligned |     B |\n",
    "| col 2 is      | centered      |     C |\n",
    "\n",
    "The outer pipes (|) are optional, and you don't need to make the raw Markdown pretty. You can also use inline Markdown.\n",
    "\n",
    "Markdown | Less | Pretty\n",
    "--- | --- | ---\n",
    "*Still* | `renders` | **nicely**\n",
    "1 | 2 | 3\n",
    "```"
   ]
  },
  {
   "cell_type": "markdown",
   "metadata": {},
   "source": [
    "### Inserting images from web"
   ]
  },
  {
   "cell_type": "markdown",
   "metadata": {},
   "source": [
    "Let's include the course logo below.\n",
    "\n",
    "![logo](https://github.com/shawnrhoads/gu-psyc-347/raw/master/docs/static/images/logo-background.jpg)\n",
    "\n",
    "The input above looks like this behind the scenes:\n",
    "```\n",
    "![logo](https://github.com/shawnrhoads/gu-psyc-347/raw/master/docs/static/images/logo-background.jpg)\n",
    "```"
   ]
  },
  {
   "cell_type": "markdown",
   "metadata": {},
   "source": [
    "### HTML/CSS Integration:\n",
    "\n",
    "<font color=red>This is a</font> *markdown* **cell**!\n",
    "\n",
    "The text above looks like this behind the scenes:\n",
    "```\n",
    "<font color=red>This is a</font> *markdown* **cell**!\n",
    "```"
   ]
  },
  {
   "cell_type": "markdown",
   "metadata": {},
   "source": [
    "### LaTeX Integration:\n",
    "$$\\sum_{n=1}^{5}n$$\n",
    "\n",
    "The equation above looks like this behind the scenes:\n",
    "```\n",
    "$$\\sum_{n=1}^{5}n$$\n",
    "```"
   ]
  },
  {
   "cell_type": "markdown",
   "metadata": {},
   "source": [
    "### Multilingual!\n",
    "\n",
    "Jupyter Notebooks support over [150+ languages](https://github.com/jupyter/jupyter/wiki/Jupyter-kernels)!\n",
    "\n",
    "These include:\n",
    "\n",
    "- Julia\n",
    "- Python\n",
    "- R\n",
    "- Javascript"
   ]
  },
  {
   "cell_type": "markdown",
   "metadata": {},
   "source": [
    "### Save notebooks in other formats and put them online\n",
    "- Github automatically renders Jupyter Notebooks\n",
    "- [Online notebook viewer](http://nbviewer.jupyter.org/)\n",
    "- Output to PDF, HTML (including JavaScript)\n",
    "- [JupyterHub](https://github.com/jupyterhub/jupyterhub)\n",
    "\n",
    "### Customize your notebook experience with extensions\n",
    "- Table of Contents\n",
    "- Execution time/Profiling\n",
    "- Scratch Space\n",
    "- Code/Section folding\n",
    "- Look and feel (CSS+Javascript)\n",
    "- Other notebook extensions\n",
    "\n",
    "### Additional Resources\n",
    "- [Eshin Jolly - Intro to Jupyter Notebooks](https://github.com/Summer-MIND/mind_2018/tree/master/tutorials/jupyter)\n",
    "- [Jake Vanderplas - Data Science Handbook](https://github.com/jakevdp/PythonDataScienceHandbook)\n",
    "- [Tal Yarkoni - Intro to Data Science w/ Python](https://github.com/tyarkoni/SSI2016)\n",
    "- [Yaroslav Halchenko - Intro to Programming for Psych/Neuro](https://github.com/dartmouth-pbs/psyc161)\n",
    "- [Awesome notebooks](https://github.com/jupyter/jupyter/wiki/A-gallery-of-interesting-Jupyter-Notebooks)\n",
    "- [Neuroimaging in Python](https://github.com/datacarpentry/python-neuroimaging-lesson)\n",
    "- [Google Colaboratory](https://colab.research.google.com/notebooks/welcome.ipynb#recent=true)"
   ]
  }
 ],
 "metadata": {
  "colab": {
   "collapsed_sections": []
  },
  "interpreter": {
   "hash": "31f2aee4e71d21fbe5cf8b01ff0e069b9275f58929596ceb00d14d90e3e16cd6"
  },
  "kernelspec": {
   "display_name": "Python 3",
   "language": "python",
   "name": "python3"
  },
  "language_info": {
   "codemirror_mode": {
    "name": "ipython",
    "version": 3
   },
   "file_extension": ".py",
   "mimetype": "text/x-python",
   "name": "python",
   "nbconvert_exporter": "python",
   "pygments_lexer": "ipython3",
   "version": "3.7.9"
  }
 },
 "nbformat": 4,
 "nbformat_minor": 4
}
