{
 "cells": [
  {
   "cell_type": "markdown",
   "id": "functioning-maine",
   "metadata": {},
   "source": [
    "<a href=\"https://colab.research.google.com/github/shawnrhoads/gu-psyc-347/blob/master/docs/module-03-00_Two-Armed-Bandit.ipynb\" target=\"_blank\">![Open In Colab](https://colab.research.google.com/assets/colab-badge.svg)</a>\n",
    "\n",
    "# Two-Armed Bandit\n",
    "\n",
    "This tutorial was inspired by and adapted from [Models of Learning](http://www.hannekedenouden.ruhosting.nl/RLtutorial/Instructions.html) and the [Neuromatch Academy tutorials](https://github.com/NeuromatchAcademy/course-content) [[CC BY 4.0](https://creativecommons.org/licenses/by/4.0/)]."
   ]
  },
  {
   "cell_type": "markdown",
   "id": "received-roman",
   "metadata": {},
   "source": [
    "In this tutorial, we will complete a learning task where your goal will be to maximize the amount of points you can earn by sampling the reward distribution from one of two slot machines. This is also known as a two-armed bandit task."
   ]
  },
  {
   "cell_type": "markdown",
   "id": "manual-fairy",
   "metadata": {},
   "source": [
    "## Getting started\n",
    "\n",
    "To start off, we will (0) open Terminal (Mac/Linux) or Anaconda Prompt (Windows). We will then (1) activate our course environment, (2) change the directory to `gu-psyc-347-master` (or whatever you named your course directory that we downloaded at the beginning of the semester; you can also [download it here](https://github.com/shawnrhoads/gu-psyc-347/archive/master.zip)), (3) update the directory contents using `git`, and finally (4) check that our course environment is up-to-date.\n",
    "\n",
    "Items 1-4 can be accomplished using the following four commands in the Terminal / Prompt:\n",
    "\n",
    "```\n",
    "conda activate gu-psyc-347\n",
    "cd gu-psyc-347-master\n",
    "git pull origin master\n",
    "conda env update --file course-env.yml\n",
    "```"
   ]
  },
  {
   "cell_type": "markdown",
   "id": "yellow-christopher",
   "metadata": {},
   "source": [
    "## Running the task\n",
    "\n",
    "The task we will run was built using [PsychoPy](https://www.psychopy.org/), which is a \"free cross-platform package allowing you to run a wide range of experiments in the behavioral sciences (neuroscience, psychology, psychophysics, linguistics).\" PsychoPy is a great tool to use to create and run behavioral experiments because it is open-source and is backed by a huge community of developers and users!\n",
    "\n",
    "To run the course, check that you now have a directory called `two-armed-bandit` in your course directory. If your course directory is called `gu-psyc-347`, the directory structure should look something like this:\n",
    "\n",
    "```\n",
    "gu-psyc-347\n",
    "├── course-env.yml\n",
    "├── LICENSE\n",
    "├── README.md\n",
    "├── requirements.txt\n",
    "├── docs\n",
    "│    ├── static\n",
    "│    ├── solutions\n",
    "│    ├── tasks\n",
    "│          └── two-armed-bandit\n",
    "│                    ├── two-armed-bandit.psyexp\n",
    "│                    ├── two-armed-bandit.py\n",
    "│                    ├── two-armed-bandit_lastrun.py\n",
    "│                    ├── data\n",
    "│                    ├── orders\n",
    "│                    ├── stimuli\n",
    "```\n",
    "\n",
    "Once you are able to confirm that your directory looks like this, then we can start the experiment!\n",
    "\n",
    "**Before you run the experiment, your instructor will give you a number ranging from 0-13. This will be the participant ID number that you input at the beginning of the task. Please keep this number in mind.**\n",
    "\n",
    "You can run the experiment by using this command in Terminal (Mac/Linux) or Anaconda Prompt (Windows): `python two-armed-bandit.py`\n",
    "\n",
    "The task will take roughly 8 minutes to complete."
   ]
  },
  {
   "cell_type": "markdown",
   "id": "asian-temple",
   "metadata": {},
   "source": [
    "## Task Debrief\n",
    "You just completed 72 trials! 2 slot machines were presented on every trial, each associated with a certain probability of reward.\n",
    "\n",
    "Did you learn which slot machine had the greater payout probability? \n",
    "\n",
    "You were not told this, but the payout probabilities for the blue and orange machines were coupled. There was always one 'good' option and one 'bad' option.\n",
    "\n",
    "In breakout rooms, discuss with a partner the following questions and report back to the group:\n",
    "- What did you like about the task?\n",
    "- What didn't you like about the task?\n",
    "- What do you think the probablities of the slot machines were? (e.g., 50/50, 25/75, 60/40, 80/20). Do you think you and your partner(s) had the same slot machine reward probabilities? Why or why not?\n",
    "- Why do you think the position of the machines were randomized on each trial? In other words, why wasn't the orange slot machine always on the same side?\n",
    "- How many trials did it take you to learn which slot machine was better (if at all)? If there were less trials (<72 trials) or more trials (>72 trials), do you think you would be better or worse at learning?\n",
    "- Were there times when you expected to receive a rewarding outcome but didn't? How did that change your behavior on the next trial?\n",
    "- When you didn't get the outcome you expected, how often did you switch your choice on the next trial? What parameter in the Rescorla-Wagner model might correspond to this phenomenon?\n",
    "- How \"explorative\" was your behavior when you were completing the task? In other words, even if you learned which slot machine had the greater payout probability, how often did you sample the other one just to see what would happen? Do you think we can model this as well?"
   ]
  },
  {
   "cell_type": "markdown",
   "id": "spanish-geneva",
   "metadata": {},
   "source": [
    "<hr>"
   ]
  },
  {
   "cell_type": "markdown",
   "id": "finnish-institute",
   "metadata": {},
   "source": [
    "## Viewing your behavior\n",
    "\n",
    "Let's plot our behavior from the task to see how we did! In order to load your data into this Jupyter Notebook, recall your participant ID. The instructor's ID was `00`, so that is what we will use in the examples. Replace the following `id_num='00'` with your ID below."
   ]
  },
  {
   "cell_type": "code",
   "execution_count": null,
   "id": "sunset-bookmark",
   "metadata": {},
   "outputs": [],
   "source": [
    "id_num = '00' # this is the only line of code you need to change"
   ]
  },
  {
   "cell_type": "markdown",
   "id": "stopped-library",
   "metadata": {},
   "source": [
    "We will now load our usual packages into memory, so we can view, manipulate, and plot our behavioral data."
   ]
  },
  {
   "cell_type": "code",
   "execution_count": null,
   "id": "drawn-exhaust",
   "metadata": {},
   "outputs": [],
   "source": [
    "import pandas as pd\n",
    "import numpy as np\n",
    "import matplotlib.pyplot as plt\n",
    "%matplotlib inline"
   ]
  },
  {
   "cell_type": "markdown",
   "id": "local-bridal",
   "metadata": {},
   "source": [
    "After completing the task, your data was saved to `tasks/two-armed-bandit/data/`. Let's load our behavioral data in."
   ]
  },
  {
   "cell_type": "code",
   "execution_count": null,
   "id": "dramatic-heather",
   "metadata": {},
   "outputs": [],
   "source": [
    "datafile = f'tasks/two-armed-bandit/data/sub-{id_num}_task-two-armed-bandit.csv'\n",
    "\n",
    "df = pd.read_csv(datafile)\n",
    "display(df.head())"
   ]
  },
  {
   "cell_type": "markdown",
   "id": "planned-donor",
   "metadata": {},
   "source": [
    "## Cumulative points over trials\n",
    "\n",
    "First, let's plot our culmulative points over trials!"
   ]
  },
  {
   "cell_type": "code",
   "execution_count": null,
   "id": "incorporated-musician",
   "metadata": {
    "tags": [
     "hide-output"
    ]
   },
   "outputs": [],
   "source": [
    "# points over trials\n",
    "plt.plot(df['trial_num'], df['cumulativePts_self'])\n",
    "plt.xlabel('trials')\n",
    "plt.ylabel('cumulative points')\n",
    "plt.title(f'Total points: {df.cumulativePts_self.values[-1]}')\n",
    "plt.show()"
   ]
  },
  {
   "cell_type": "markdown",
   "id": "imposed-links",
   "metadata": {},
   "source": [
    "How did you do? When didn't your points increase? Does this have any relationship with the machine you chose? Let's overlay point accumulation with behavior."
   ]
  },
  {
   "cell_type": "markdown",
   "id": "polish-motor",
   "metadata": {},
   "source": [
    "## Choices on each trial\n",
    "\n",
    "We can also plot the choices we made on each trial. Let's plot the choices for the slot machine with the highest probability."
   ]
  },
  {
   "cell_type": "code",
   "execution_count": null,
   "id": "material-module",
   "metadata": {
    "tags": [
     "hide-output"
    ]
   },
   "outputs": [],
   "source": [
    "# compute which machine yielded rewards more frequently\n",
    "if df['stim_0_value'].mean() > df['stim_1_value'].mean():\n",
    "    better_machine = 'stim_0'\n",
    "    better_machine_val = 'stim_0_value'\n",
    "    better_machine_choice = 'chosen_stim_0'\n",
    "else:\n",
    "    better_machine = 'stim_1'\n",
    "    better_machine_val = 'stim_1_value'\n",
    "    better_machine_choice = 'chosen_stim_1'\n",
    "\n",
    "# plot choices for this machine\n",
    "plt.plot(df['trial_num'], df[better_machine_choice], '+')\n",
    "plt.xlabel('trials')\n",
    "plt.ylabel('choice')\n",
    "plt.title(f'Chose better machine {df[better_machine_choice].sum()} times out of {len(df[better_machine_choice])}')\n",
    "plt.show()"
   ]
  },
  {
   "cell_type": "markdown",
   "id": "opening-legislation",
   "metadata": {},
   "source": [
    "Did you learn that this machine was better? How did your choices correspond with the actual outcome associated with the machine on a given trial? (Remember: the machine yielded rewards with a certain probability)"
   ]
  },
  {
   "cell_type": "markdown",
   "id": "mineral-waste",
   "metadata": {},
   "source": [
    "## Actual values of the machine over trials\n",
    "\n",
    "Let's plot the actual values associated with the machine over trials. These aren't the actual outcomes displayed to you during the task."
   ]
  },
  {
   "cell_type": "code",
   "execution_count": null,
   "id": "better-monitoring",
   "metadata": {
    "tags": [
     "hide-output"
    ]
   },
   "outputs": [],
   "source": [
    "# plot values for this machine\n",
    "plt.plot(df['trial_num'], df[better_machine_val], '--')\n",
    "plt.xlabel('trials')\n",
    "plt.ylabel('value')\n",
    "plt.title(f'Values associated with better machine over trials')\n",
    "plt.show()"
   ]
  },
  {
   "cell_type": "markdown",
   "id": "minute-philadelphia",
   "metadata": {},
   "source": [
    "As we can see, the machine was set up to produce varying outcomes over trials (even though this was the better machine). In other words, this machine only yielded rewards with a certain probability."
   ]
  },
  {
   "cell_type": "markdown",
   "id": "extensive-blues",
   "metadata": {},
   "source": [
    "## Actual outcomes during the task\n",
    "\n",
    "We can also plot out the actual outcomes that we observed during the task. These were based on what choices we made on each trial. They might map onto the values over trials fairly well."
   ]
  },
  {
   "cell_type": "code",
   "execution_count": null,
   "id": "hundred-amateur",
   "metadata": {
    "tags": [
     "hide-output"
    ]
   },
   "outputs": [],
   "source": [
    "plt.plot(df['trial_num'], df['outcome'], 'r--', alpha=.8)\n",
    "plt.xlabel('trials')\n",
    "plt.ylabel('outcome')\n",
    "plt.title(f'Actual outcomes over trials')\n",
    "plt.show()"
   ]
  },
  {
   "cell_type": "markdown",
   "id": "terminal-party",
   "metadata": {},
   "source": [
    "Finally, we can plot both our choices and outcomes over trials. Do our choices reflect the actual outcomes over time?"
   ]
  },
  {
   "cell_type": "code",
   "execution_count": null,
   "id": "roman-semester",
   "metadata": {
    "tags": [
     "hide-output"
    ]
   },
   "outputs": [],
   "source": [
    "plt.plot(df['trial_num'], df['outcome'], 'r--', alpha=.8)\n",
    "plt.plot(df['trial_num'], df[better_machine_choice], '+', label='choice')\n",
    "plt.xlabel('trials')\n",
    "plt.ylabel('outcome')\n",
    "plt.title(f'Choices and outcomes over trials')\n",
    "plt.legend()\n",
    "plt.show()"
   ]
  },
  {
   "cell_type": "markdown",
   "id": "elder-housing",
   "metadata": {},
   "source": [
    "Great! Recall the ten simple rules for computational modeling of behavioral data (Wilson & Collins, 2019). We will be going through these steps throughout this module.\n",
    "\n",
    "We finished our first step: Experimental Design. At this stage, we can continue to tweak our experiment, or continue onto building models. Before next class, think of a few models we can test using this task. Like we discussed during the lecture, it is unlikely that we are keeping a running average of all of our choices throughout the task. Thus, we might be computing the average in a more \"online\" way. For example, we could be assigning value and keeping track of this value for each of the slot machines.\n",
    "\n",
    "We will specify a few models, simulate some data, and then attempt to recover the parameters."
   ]
  }
 ],
 "metadata": {
  "kernelspec": {
   "display_name": "Python 3",
   "language": "python",
   "name": "python3"
  },
  "language_info": {
   "codemirror_mode": {
    "name": "ipython",
    "version": 3
   },
   "file_extension": ".py",
   "mimetype": "text/x-python",
   "name": "python",
   "nbconvert_exporter": "python",
   "pygments_lexer": "ipython3",
   "version": "3.7.10"
  }
 },
 "nbformat": 4,
 "nbformat_minor": 5
}
