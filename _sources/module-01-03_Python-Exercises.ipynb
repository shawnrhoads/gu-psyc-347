{
 "cells": [
  {
   "cell_type": "markdown",
   "id": "surprised-comparison",
   "metadata": {},
   "source": [
    "<a target=\"_blank\" rel=\"noopener noreferrer\" href=\"https://colab.research.google.com/github/shawnrhoads/gu-psyc-347/blob/master/docs/module-01-03_Python-Exercises.ipynb\">![Open In Colab](https://colab.research.google.com/assets/colab-badge.svg)</a>\n",
    "\n",
    "# Python Exercises\n",
    "For our first exercise, we will apply some of the skills we learned in Python. Please use all of the resources available to you, including Google, StackOverflow, and the Canvas Discussion Board.\n",
    "\n",
    "For these exercises, we will be using data from [O'Connell, et al. (2021)](https://journals.plos.org/plosone/article?id=10.1371/journal.pone.0244974)\n",
    "\n",
    "This study assessed whether social distancing behaviors (early in the COVID-19 pandemic) was associated with self-reported antisocial behavior. To measure one index of social distancing behavior, participants were presented with an image of an adult silhouette surrounded by a rectangular border. They were asked to click a point in the image that represents how far away they typically stood from other individuals. \n",
    "\n",
    "Here is a heatmap showing how far participants reported standing from other individuals in the past week, with dark maroon indicating a higher density of responses obtained from a kernel density estimation. The mean response coordinate, +, represents a distance of approximately 98 inches (8.2 feet; 2.5 m).\n",
    "\n",
    "![Figure 1](https://journals.plos.org/plosone/article/figure/image?download&size=medium&id=info:doi/10.1371/journal.pone.0244974.g001)"
   ]
  },
  {
   "cell_type": "markdown",
   "id": "circular-mitchell",
   "metadata": {},
   "source": [
    "## Table of Contents\n",
    "1. [Basics](#Basics) (importing modules, basic syntax, types of variables)\n",
    "2. [If statements, For loops](#If-statements,-For-loops)\n",
    "3. [Functions](#Functions)\n",
    "\n",
    "#### Key\n",
    "- `# [INSERT CODE BELOW]` : indicates where you should insert your own code, feel free to replace with a comment of your own\n",
    "- `...`: indicates a location where you should insert your own code\n",
    "- `raise NotImplementedError(\"Student exercise: *\")` : delete this line once you have added your code"
   ]
  },
  {
   "cell_type": "markdown",
   "id": "planned-circus",
   "metadata": {},
   "source": [
    "## Basics"
   ]
  },
  {
   "cell_type": "code",
   "execution_count": null,
   "id": "empirical-communications",
   "metadata": {},
   "outputs": [],
   "source": [
    "# We usually, start a notebook with a brief overview in the first cell using Markdown (see above)\n",
    "\n",
    "# Then, it is common practice to load all the packages/modules that we will use in our first code cell. Please import pandas and numpy below so we can load our data:\n",
    "\n",
    "# [INSERT CODE BELOW]\n",
    "raise NotImplementedError(\"Student exercise: import pandas and numpy, then delete this line\")\n",
    "\n",
    "import requests\n",
    "import ... as ...\n",
    "import ... as ..."
   ]
  },
  {
   "cell_type": "code",
   "execution_count": null,
   "id": "empirical-withdrawal",
   "metadata": {},
   "outputs": [],
   "source": [
    "# Now, we will load in our dataframe into a variable called `df` and view the first few rows:\n",
    "\n",
    "# here, we are just going to download data from the web (no need to edit these lines, but try to figure out what they are doing)\n",
    "url = 'https://raw.githubusercontent.com/shawnrhoads/gu-psyc-347/master/docs/static/data/OConnell_COVID_MTurk_noPII_post_peerreview.csv'\n",
    "r = requests.get(url, allow_redirects=True)\n",
    "filename = 'OConnell_COVID_MTurk_noPII_post_peerreview.csv'\n",
    "open(filename, 'wb').write(r.content)\n",
    "\n",
    "# [INSERT CODE BELOW]\n",
    "raise NotImplementedError(\"Student exercise: load data from csv into Pandas dataframe, then delete this line\")\n",
    "\n",
    "df = pd.read_csv(...)\n",
    "print(..)"
   ]
  },
  {
   "cell_type": "code",
   "execution_count": null,
   "id": "hungarian-switzerland",
   "metadata": {},
   "outputs": [],
   "source": [
    "# Great, now that we have our data. Let's store data into two variables of interest into lists:\n",
    "    # - silhouette_dist_X_min81 : distance from others in pixels (x-axis)\n",
    "    # - STAB_total_min32 : antisocial behavior measured using the Subtypes of Antisocial Behavior Questionnaire (STAB)\n",
    "\n",
    "# No need to add any code here. Just execute this cell!\n",
    "\n",
    "distance = list(df['silhouette_dist_X_min81'].values)\n",
    "antisociality = list(df['STAB_total_min32'].values)"
   ]
  },
  {
   "cell_type": "code",
   "execution_count": null,
   "id": "studied-crack",
   "metadata": {},
   "outputs": [],
   "source": [
    "# Let's verify that both of these variables are indeed stored in memory as lists using the `print()` and `type()` functions\n",
    "\n",
    "# [INSERT CODE BELOW]\n",
    "raise NotImplementedError(\"Student exercise: print the type of each variable, then delete this line\")\n",
    "\n",
    "print(type(...))\n",
    "print(type(...))"
   ]
  },
  {
   "cell_type": "code",
   "execution_count": null,
   "id": "german-forge",
   "metadata": {},
   "outputs": [],
   "source": [
    "# Let's also explore the data a bit more. Remember, both of these lists should contain the same number of observations. Let's store number of elements of each list and print them out. \n",
    "\n",
    "# [INSERT CODE BELOW]\n",
    "raise NotImplementedError(\"Student exercise: store number of elements of each list, then delete this line\")\n",
    "\n",
    "length_of_dist_data = ...\n",
    "length_of_stab_data = ...\n",
    "\n",
    "print(f'list containing distance data contains {length_of_dist_data} observations')\n",
    "print(f'list containing STAB data contains {length_of_stab_data} observations')"
   ]
  },
  {
   "cell_type": "markdown",
   "id": "changed-newman",
   "metadata": {},
   "source": [
    "## If statements, For loops"
   ]
  },
  {
   "cell_type": "code",
   "execution_count": null,
   "id": "compound-reggae",
   "metadata": {},
   "outputs": [],
   "source": [
    "# Rather than printing out the lengths of each list above and qualitatively assessing whether they contain the same number of observations, we could have just used an if-statement. Let's do that now. If they are the same length, then print one line with the number of observations; if they are not, then print two lines with the number of observations for each list.\n",
    "\n",
    "# [INSERT CODE BELOW]\n",
    "raise NotImplementedError(\"Student exercise: use if-statement to check if lists contain the same number of elements, then delete this line\")\n",
    "\n",
    "length_of_dist_data = ...\n",
    "length_of_stab_data = ...\n",
    "\n",
    "if ...\n",
    "    print(...)\n",
    "else:\n",
    "    print(...)\n",
    "    print(...)"
   ]
  },
  {
   "cell_type": "code",
   "execution_count": null,
   "id": "outdoor-termination",
   "metadata": {},
   "outputs": [],
   "source": [
    "# We might be missing data for some of the observations in these lists (i.e., a participant did not complete this question, so the element in the list is a `nan` or not a number). Let's write a for-loop to loop through the observations in `distance` and then check whether each observation is a nan. If the observation is a nan, then print out the location of that observation in the list\n",
    "\n",
    "# Hint: this will require you to put an if-statement within the for-loop\n",
    "\n",
    "# [INSERT CODE BELOW]\n",
    "raise NotImplementedError(\"Student exercise: loop through elements in list and check if any are nans, then delete this line\")\n",
    "\n",
    "for index, ... in enumerate(...):\n",
    "    if ...\n",
    "        print(f'observation #{index} is nan')"
   ]
  },
  {
   "cell_type": "code",
   "execution_count": null,
   "id": "valued-apparatus",
   "metadata": {},
   "outputs": [],
   "source": [
    "# Okay (spoiler alert), `distance` contains nans. Let's take the same for-loop code from above and add a \"counter\" to count how many nans we actually have\n",
    "\n",
    "# [INSERT CODE BELOW]\n",
    "raise NotImplementedError(\"Student exercise: loop through elements in list, check if any are nans, and update counter for each nan, then delete this line\")\n",
    "\n",
    "counter = 0 #initialize counter with 0\n",
    "for index, ... in enumerate(...):\n",
    "    if ...\n",
    "        counter = ... #update counter if nan\n",
    "        print(f'observation #{index} is nan')\n",
    "\n",
    "# Let's print out the number of nans. Note that this final line is outside of the for-loop\n",
    "print(f'the list contains {counter} nans') "
   ]
  },
  {
   "cell_type": "markdown",
   "id": "received-growing",
   "metadata": {},
   "source": [
    "## Functions"
   ]
  },
  {
   "cell_type": "code",
   "execution_count": null,
   "id": "acceptable-piece",
   "metadata": {},
   "outputs": [],
   "source": [
    "# We can also make our code above \"general-purpose\", so we can apply it to any list. In this cell, write a function called `check_for_nans()` that takes two inputs [a list and a string (\"the list name\")] and two outputs [a boolean whether the list contains any nans (i.e., if the counter is greater than 0) and the number of nans in list (zero if no nans)]. \n",
    "\n",
    "# Note that there are many ways to accomplish this task, feel free to experiment around with different approaches\n",
    "\n",
    "# Fill out this function, then try to excecute the next cell to see if it works\n",
    "\n",
    "def check_for_nans(list_input, list_name='list'):\n",
    "    \"\"\"Check whether a list contains any nans\n",
    "\n",
    "    Args:\n",
    "        list_input (list): a list that contains the observations\n",
    "        list_name (string): a string containing the name of the variable\n",
    "    \n",
    "    Returns:\n",
    "        boolean: True if the list contains nans, False if not\n",
    "        int: number of nans found in list, zero if no nans\n",
    "    \"\"\"\n",
    "\n",
    "    ################################################################################\n",
    "    # [INSERT CODE BELOW]\n",
    "    raise NotImplementedError(\"Student exercise: check if any inputted list contains nans, then delete this line\")\n",
    "    ################################################################################\n",
    "\n",
    "    # loop through elements/observations in list\n",
    "    counter = 0 #initialize counter with 0\n",
    "    for index, ... in enumerate(...):\n",
    "        if ...\n",
    "            counter = ... #update counter if nan\n",
    "    \n",
    "    # check if list contains any nans\n",
    "    contains_nans = ...\n",
    "    \n",
    "    # print if contains_nans==True\n",
    "    if contains_nans:\n",
    "        print(f'{list_name} contains {counter} nans')\n",
    "    else:\n",
    "        print(f'{list_name} contains no nans')\n",
    "\n",
    "    return contains_nans, counter"
   ]
  },
  {
   "cell_type": "code",
   "execution_count": null,
   "id": "fantastic-clinic",
   "metadata": {},
   "outputs": [],
   "source": [
    "# Run this cell to check your work. No need to edit, just execute cell!\n",
    "antisociality_contains_nans, antisociality_nan_count = check_for_nans(antisociality, list_name='antisociality')\n",
    "distance_contains_nans, distance_nan_count = check_for_nans(distance, list_name='distance')\n",
    "\n",
    "####################################\n",
    "# This is a check to see if it works; bonus point if you can summarize what we do here!\n",
    "new_list = [[1, np.nan, 2, 3, np.nan, 4, 5, 6, np.nan,7, 8, 9, np.nan],           # 4 \n",
    "            [1, 2, 3, 4, 5, 6, 7, 8, 9, 10],                                      # 0 \n",
    "            [np.nan, np.nan, np.nan, np.nan, np.nan, np.nan, np.nan, np.nan, 10]] # 8\n",
    "\n",
    "list_of_booleans = []\n",
    "list_of_counts = []\n",
    "for index, item in enumerate(new_list):\n",
    "    nans, counts = check_for_nans(item, list_name=f'list{index}')\n",
    "    list_of_booleans.append(nans)\n",
    "    list_of_counts.append(counts)\n",
    "\n",
    "if (list_of_booleans==[True,False,True]) and (list_of_counts==[4,0,8]):\n",
    "    print(\"CONGRATS! LOOKS LIKE YOU DID IT!\")\n",
    "####################################"
   ]
  },
  {
   "cell_type": "code",
   "execution_count": null,
   "id": "sticky-nancy",
   "metadata": {},
   "outputs": [],
   "source": [
    "# Please convert this cell to a Markdown cell. \n",
    "# Create a Heading named \"Notebook Feedback,\" then provide 1-2 sentences about your experience with this Jupyter Notebook (e.g., Did you enjoy the exercises? Were they too easy/difficult? Would you have like to see anything different? Were you able to apply some skills we learned during class? Anything still confusing?). Finally, please rate your experience from (0) \"did not enjoy at all\" to (10) \"enjoyed a great deal.\" Only your instructor will see these responses. "
   ]
  },
  {
   "cell_type": "markdown",
   "id": "instrumental-warner",
   "metadata": {},
   "source": [
    "Woohoo! You finished your first Jupyter Notebook exercise! Please save this file as an .html file by clicking on **'File > Download As > HTML (.html)'**\n",
    "\n",
    "Then, save the file as **\"Lastname_Exercise01.html\"** and submit on Canvas."
   ]
  },
  {
   "cell_type": "code",
   "execution_count": null,
   "id": "adolescent-mother",
   "metadata": {},
   "outputs": [],
   "source": []
  }
 ],
 "metadata": {
  "execution": {
   "allow_errors": true
  },
  "jupyter": {
   "outputs_hidden": true
  },
  "kernelspec": {
   "display_name": "Python 3",
   "language": "python",
   "name": "python3"
  },
  "language_info": {
   "codemirror_mode": {
    "name": "ipython",
    "version": 3
   },
   "file_extension": ".py",
   "mimetype": "text/x-python",
   "name": "python",
   "nbconvert_exporter": "python",
   "pygments_lexer": "ipython3",
   "version": "3.7.10"
  }
 },
 "nbformat": 4,
 "nbformat_minor": 5
}
