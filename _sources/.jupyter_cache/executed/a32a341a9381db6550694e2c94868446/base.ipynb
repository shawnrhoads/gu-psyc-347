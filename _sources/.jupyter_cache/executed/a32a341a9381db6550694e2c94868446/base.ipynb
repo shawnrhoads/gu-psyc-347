{
 "cells": [
  {
   "cell_type": "code",
   "execution_count": 1,
   "id": "declared-headline",
   "metadata": {},
   "outputs": [
    {
     "ename": "SyntaxError",
     "evalue": "invalid syntax (Temp/ipykernel_11968/2401966255.py, line 12)",
     "output_type": "error",
     "traceback": [
      "\u001b[1;36m  File \u001b[1;32m\"C:\\Users\\Shawn\\AppData\\Local\\Temp/ipykernel_11968/2401966255.py\"\u001b[1;36m, line \u001b[1;32m12\u001b[0m\n\u001b[1;33m    import ... as ...\u001b[0m\n\u001b[1;37m             ^\u001b[0m\n\u001b[1;31mSyntaxError\u001b[0m\u001b[1;31m:\u001b[0m invalid syntax\n"
     ]
    }
   ],
   "source": [
    "# We usually, start a notebook with a brief overview \n",
    "# in the first cell using Markdown (see above)\n",
    "\n",
    "# Then, it is common practice to load all the \n",
    "# packages/modules that we will use in our first \n",
    "# code cell. Please import pandas and numpy \n",
    "# below so we can load our data:\n",
    "\n",
    "# [INSERT CODE BELOW]\n",
    "raise NotImplementedError(\"Student exercise: import pandas and numpy, then delete this line\")\n",
    "\n",
    "import ... as ...\n",
    "import ... as ..."
   ]
  },
  {
   "cell_type": "code",
   "execution_count": 2,
   "id": "other-giant",
   "metadata": {},
   "outputs": [
    {
     "ename": "NameError",
     "evalue": "name 'pd' is not defined",
     "output_type": "error",
     "traceback": [
      "\u001b[1;31m---------------------------------------------------------------------------\u001b[0m",
      "\u001b[1;31mNameError\u001b[0m                                 Traceback (most recent call last)",
      "\u001b[1;32m~\\AppData\\Local\\Temp/ipykernel_11968/2794955659.py\u001b[0m in \u001b[0;36m<module>\u001b[1;34m\u001b[0m\n\u001b[0;32m      5\u001b[0m \u001b[1;31m# as a Pandas DataFrame\u001b[0m\u001b[1;33m\u001b[0m\u001b[1;33m\u001b[0m\u001b[1;33m\u001b[0m\u001b[0m\n\u001b[0;32m      6\u001b[0m \u001b[0murl\u001b[0m \u001b[1;33m=\u001b[0m \u001b[1;34m'https://raw.githubusercontent.com/shawnrhoads/gu-psyc-347/master/docs/static/data/OConnell_COVID_MTurk_noPII_post_peerreview.csv'\u001b[0m\u001b[1;33m\u001b[0m\u001b[1;33m\u001b[0m\u001b[0m\n\u001b[1;32m----> 7\u001b[1;33m \u001b[0mdf\u001b[0m \u001b[1;33m=\u001b[0m \u001b[0mpd\u001b[0m\u001b[1;33m.\u001b[0m\u001b[0mread_csv\u001b[0m\u001b[1;33m(\u001b[0m\u001b[0murl\u001b[0m\u001b[1;33m)\u001b[0m\u001b[1;33m\u001b[0m\u001b[1;33m\u001b[0m\u001b[0m\n\u001b[0m\u001b[0;32m      8\u001b[0m \u001b[1;33m\u001b[0m\u001b[0m\n\u001b[0;32m      9\u001b[0m \u001b[1;31m# [INSERT CODE BELOW]\u001b[0m\u001b[1;33m\u001b[0m\u001b[1;33m\u001b[0m\u001b[1;33m\u001b[0m\u001b[0m\n",
      "\u001b[1;31mNameError\u001b[0m: name 'pd' is not defined"
     ]
    }
   ],
   "source": [
    "# Now, we will load in our dataframe into\n",
    "# a variable called `df` and view the first few rows:\n",
    "\n",
    "# here, we are just going to read data from the web \n",
    "# as a Pandas DataFrame\n",
    "url = 'https://raw.githubusercontent.com/shawnrhoads/gu-psyc-347/master/docs/static/data/OConnell_COVID_MTurk_noPII_post_peerreview.csv'\n",
    "df = pd.read_csv(url)\n",
    "\n",
    "# [INSERT CODE BELOW]\n",
    "raise NotImplementedError(\"Student exercise: display the contents of the DataFrame\")\n",
    "\n",
    "display(...)"
   ]
  },
  {
   "cell_type": "code",
   "execution_count": 3,
   "id": "indie-conviction",
   "metadata": {},
   "outputs": [
    {
     "ename": "NameError",
     "evalue": "name 'df' is not defined",
     "output_type": "error",
     "traceback": [
      "\u001b[1;31m---------------------------------------------------------------------------\u001b[0m",
      "\u001b[1;31mNameError\u001b[0m                                 Traceback (most recent call last)",
      "\u001b[1;32m~\\AppData\\Local\\Temp/ipykernel_11968/402758015.py\u001b[0m in \u001b[0;36m<module>\u001b[1;34m\u001b[0m\n\u001b[0;32m     10\u001b[0m \u001b[1;31m# No need to add any code here. Just execute this cell!\u001b[0m\u001b[1;33m\u001b[0m\u001b[1;33m\u001b[0m\u001b[1;33m\u001b[0m\u001b[0m\n\u001b[0;32m     11\u001b[0m \u001b[1;33m\u001b[0m\u001b[0m\n\u001b[1;32m---> 12\u001b[1;33m \u001b[0mdistance\u001b[0m \u001b[1;33m=\u001b[0m \u001b[0mlist\u001b[0m\u001b[1;33m(\u001b[0m\u001b[0mdf\u001b[0m\u001b[1;33m[\u001b[0m\u001b[1;34m'silhouette_dist_X_min81'\u001b[0m\u001b[1;33m]\u001b[0m\u001b[1;33m.\u001b[0m\u001b[0mvalues\u001b[0m\u001b[1;33m)\u001b[0m\u001b[1;33m\u001b[0m\u001b[1;33m\u001b[0m\u001b[0m\n\u001b[0m\u001b[0;32m     13\u001b[0m \u001b[0mantisociality\u001b[0m \u001b[1;33m=\u001b[0m \u001b[0mlist\u001b[0m\u001b[1;33m(\u001b[0m\u001b[0mdf\u001b[0m\u001b[1;33m[\u001b[0m\u001b[1;34m'STAB_total_min32'\u001b[0m\u001b[1;33m]\u001b[0m\u001b[1;33m.\u001b[0m\u001b[0mvalues\u001b[0m\u001b[1;33m)\u001b[0m\u001b[1;33m\u001b[0m\u001b[1;33m\u001b[0m\u001b[0m\n",
      "\u001b[1;31mNameError\u001b[0m: name 'df' is not defined"
     ]
    }
   ],
   "source": [
    "# Great, now that we have our data. Let's store \n",
    "# data into two variables of interest into lists:\n",
    "    # - silhouette_dist_X_min81 : \n",
    "    #      distance from others in pixels (x-axis)\n",
    "    # - STAB_total_min32 : \n",
    "    #      antisocial behavior measured using \n",
    "    #      the Subtypes of Antisocial \n",
    "    #      Behavior Questionnaire (STAB)\n",
    "\n",
    "# No need to add any code here. Just execute this cell!\n",
    "\n",
    "distance = list(df['silhouette_dist_X_min81'].values)\n",
    "antisociality = list(df['STAB_total_min32'].values)"
   ]
  },
  {
   "cell_type": "code",
   "execution_count": 4,
   "id": "blocked-prime",
   "metadata": {},
   "outputs": [
    {
     "ename": "NotImplementedError",
     "evalue": "Student exercise: print the type of each variable, then delete this line",
     "output_type": "error",
     "traceback": [
      "\u001b[1;31m---------------------------------------------------------------------------\u001b[0m",
      "\u001b[1;31mNotImplementedError\u001b[0m                       Traceback (most recent call last)",
      "\u001b[1;32m~\\AppData\\Local\\Temp/ipykernel_11968/3929904286.py\u001b[0m in \u001b[0;36m<module>\u001b[1;34m\u001b[0m\n\u001b[0;32m      4\u001b[0m \u001b[1;33m\u001b[0m\u001b[0m\n\u001b[0;32m      5\u001b[0m \u001b[1;31m# [INSERT CODE BELOW]\u001b[0m\u001b[1;33m\u001b[0m\u001b[1;33m\u001b[0m\u001b[1;33m\u001b[0m\u001b[0m\n\u001b[1;32m----> 6\u001b[1;33m \u001b[1;32mraise\u001b[0m \u001b[0mNotImplementedError\u001b[0m\u001b[1;33m(\u001b[0m\u001b[1;34m\"Student exercise: print the type of each variable, then delete this line\"\u001b[0m\u001b[1;33m)\u001b[0m\u001b[1;33m\u001b[0m\u001b[1;33m\u001b[0m\u001b[0m\n\u001b[0m\u001b[0;32m      7\u001b[0m \u001b[1;33m\u001b[0m\u001b[0m\n\u001b[0;32m      8\u001b[0m \u001b[0mprint\u001b[0m\u001b[1;33m(\u001b[0m\u001b[0mtype\u001b[0m\u001b[1;33m(\u001b[0m\u001b[1;33m...\u001b[0m\u001b[1;33m)\u001b[0m\u001b[1;33m)\u001b[0m\u001b[1;33m\u001b[0m\u001b[1;33m\u001b[0m\u001b[0m\n",
      "\u001b[1;31mNotImplementedError\u001b[0m: Student exercise: print the type of each variable, then delete this line"
     ]
    }
   ],
   "source": [
    "# Let's verify that both of these variables are \n",
    "# indeed stored in memory as lists using the \n",
    "# `print()` and `type()` functions\n",
    "\n",
    "# [INSERT CODE BELOW]\n",
    "raise NotImplementedError(\"Student exercise: print the type of each variable, then delete this line\")\n",
    "\n",
    "print(type(...))\n",
    "print(type(...))"
   ]
  },
  {
   "cell_type": "code",
   "execution_count": 5,
   "id": "floral-certification",
   "metadata": {},
   "outputs": [
    {
     "ename": "NotImplementedError",
     "evalue": "Student exercise: store number of elements of each list, then delete this line",
     "output_type": "error",
     "traceback": [
      "\u001b[1;31m---------------------------------------------------------------------------\u001b[0m",
      "\u001b[1;31mNotImplementedError\u001b[0m                       Traceback (most recent call last)",
      "\u001b[1;32m~\\AppData\\Local\\Temp/ipykernel_11968/1878024175.py\u001b[0m in \u001b[0;36m<module>\u001b[1;34m\u001b[0m\n\u001b[0;32m      6\u001b[0m \u001b[1;33m\u001b[0m\u001b[0m\n\u001b[0;32m      7\u001b[0m \u001b[1;31m# [INSERT CODE BELOW]\u001b[0m\u001b[1;33m\u001b[0m\u001b[1;33m\u001b[0m\u001b[1;33m\u001b[0m\u001b[0m\n\u001b[1;32m----> 8\u001b[1;33m \u001b[1;32mraise\u001b[0m \u001b[0mNotImplementedError\u001b[0m\u001b[1;33m(\u001b[0m\u001b[1;34m\"Student exercise: store number of elements of each list, then delete this line\"\u001b[0m\u001b[1;33m)\u001b[0m\u001b[1;33m\u001b[0m\u001b[1;33m\u001b[0m\u001b[0m\n\u001b[0m\u001b[0;32m      9\u001b[0m \u001b[1;33m\u001b[0m\u001b[0m\n\u001b[0;32m     10\u001b[0m \u001b[0mlength_of_dist_data\u001b[0m \u001b[1;33m=\u001b[0m \u001b[1;33m...\u001b[0m\u001b[1;33m\u001b[0m\u001b[1;33m\u001b[0m\u001b[0m\n",
      "\u001b[1;31mNotImplementedError\u001b[0m: Student exercise: store number of elements of each list, then delete this line"
     ]
    }
   ],
   "source": [
    "# Let's also explore the data a bit more. \n",
    "# Remember, both of these lists should \n",
    "# contain the same number of observations. \n",
    "# Let's store number of elements of each \n",
    "# list and print them out. \n",
    "\n",
    "# [INSERT CODE BELOW]\n",
    "raise NotImplementedError(\"Student exercise: store number of elements of each list, then delete this line\")\n",
    "\n",
    "length_of_dist_data = ...\n",
    "length_of_stab_data = ...\n",
    "\n",
    "print(f'list containing distance data contains {length_of_dist_data} observations')\n",
    "print(f'list containing STAB data contains {length_of_stab_data} observations')"
   ]
  },
  {
   "cell_type": "code",
   "execution_count": 6,
   "id": "annual-superintendent",
   "metadata": {},
   "outputs": [
    {
     "ename": "SyntaxError",
     "evalue": "invalid syntax (Temp/ipykernel_11968/3450765365.py, line 16)",
     "output_type": "error",
     "traceback": [
      "\u001b[1;36m  File \u001b[1;32m\"C:\\Users\\Shawn\\AppData\\Local\\Temp/ipykernel_11968/3450765365.py\"\u001b[1;36m, line \u001b[1;32m16\u001b[0m\n\u001b[1;33m    if ...\u001b[0m\n\u001b[1;37m          ^\u001b[0m\n\u001b[1;31mSyntaxError\u001b[0m\u001b[1;31m:\u001b[0m invalid syntax\n"
     ]
    }
   ],
   "source": [
    "# Rather than printing out the lengths of each \n",
    "# list above and qualitatively assessing whether \n",
    "# they contain the same number of observations, \n",
    "# we could have just used an if-statement. \n",
    "# Let's do that now. If they are the same length, \n",
    "# then print one line with the number of observations; \n",
    "# if they are not, then print two lines with the \n",
    "# number of observations for each list.\n",
    "\n",
    "# [INSERT CODE BELOW]\n",
    "raise NotImplementedError(\"Student exercise: use if-statement to check if lists contain the same number of elements, then delete this line\")\n",
    "\n",
    "length_of_dist_data = ...\n",
    "length_of_stab_data = ...\n",
    "\n",
    "if ...\n",
    "    print(...)\n",
    "else:\n",
    "    print(...)\n",
    "    print(...)"
   ]
  },
  {
   "cell_type": "code",
   "execution_count": 7,
   "id": "attempted-corporation",
   "metadata": {},
   "outputs": [
    {
     "ename": "SyntaxError",
     "evalue": "invalid syntax (Temp/ipykernel_11968/2815082703.py, line 18)",
     "output_type": "error",
     "traceback": [
      "\u001b[1;36m  File \u001b[1;32m\"C:\\Users\\Shawn\\AppData\\Local\\Temp/ipykernel_11968/2815082703.py\"\u001b[1;36m, line \u001b[1;32m18\u001b[0m\n\u001b[1;33m    if ...\u001b[0m\n\u001b[1;37m          ^\u001b[0m\n\u001b[1;31mSyntaxError\u001b[0m\u001b[1;31m:\u001b[0m invalid syntax\n"
     ]
    }
   ],
   "source": [
    "# We might be missing data for some of the \n",
    "# observations in these lists (i.e., a \n",
    "# participant did not complete this question, \n",
    "# so the element in the list is a `nan` \n",
    "# or not a number). Let's write a for-loop \n",
    "# to loop through the observations in `distance` \n",
    "# and then check whether each observation is a nan. \n",
    "# If the observation is a nan, then print \n",
    "# out the location of that observation in the list\n",
    "\n",
    "# Hint: this will require you to put an \n",
    "# if-statement within the for-loop\n",
    "\n",
    "# [INSERT CODE BELOW]\n",
    "raise NotImplementedError(\"Student exercise: loop through elements in list and check if any are nans, then delete this line\")\n",
    "\n",
    "for index, ... in enumerate(...):\n",
    "    if ...\n",
    "        print(f'observation #{index} is nan')"
   ]
  },
  {
   "cell_type": "code",
   "execution_count": 8,
   "id": "brilliant-yugoslavia",
   "metadata": {},
   "outputs": [
    {
     "ename": "SyntaxError",
     "evalue": "invalid syntax (Temp/ipykernel_11968/1042918599.py, line 11)",
     "output_type": "error",
     "traceback": [
      "\u001b[1;36m  File \u001b[1;32m\"C:\\Users\\Shawn\\AppData\\Local\\Temp/ipykernel_11968/1042918599.py\"\u001b[1;36m, line \u001b[1;32m11\u001b[0m\n\u001b[1;33m    if ...\u001b[0m\n\u001b[1;37m          ^\u001b[0m\n\u001b[1;31mSyntaxError\u001b[0m\u001b[1;31m:\u001b[0m invalid syntax\n"
     ]
    }
   ],
   "source": [
    "# Okay (spoiler alert), `distance` contains nans.\n",
    "# Let's take the same for-loop code from above \n",
    "# and add a \"counter\" to count how \n",
    "# many nans we actually have\n",
    "\n",
    "# [INSERT CODE BELOW]\n",
    "raise NotImplementedError(\"Student exercise: loop through elements in list, check if any are nans, and update counter for each nan, then delete this line\")\n",
    "\n",
    "counter = 0 #initialize counter with 0\n",
    "for index, ... in enumerate(...):\n",
    "    if ...\n",
    "        counter = ... #update counter if nan\n",
    "        print(f'observation #{index} is nan')\n",
    "\n",
    "# Let's print out the number of nans. Note that this final line is outside of the for-loop\n",
    "print(f'the list contains {counter} nans') "
   ]
  },
  {
   "cell_type": "code",
   "execution_count": 9,
   "id": "lightweight-procurement",
   "metadata": {},
   "outputs": [
    {
     "ename": "SyntaxError",
     "evalue": "invalid syntax (Temp/ipykernel_11968/2808151122.py, line 37)",
     "output_type": "error",
     "traceback": [
      "\u001b[1;36m  File \u001b[1;32m\"C:\\Users\\Shawn\\AppData\\Local\\Temp/ipykernel_11968/2808151122.py\"\u001b[1;36m, line \u001b[1;32m37\u001b[0m\n\u001b[1;33m    if ...\u001b[0m\n\u001b[1;37m          ^\u001b[0m\n\u001b[1;31mSyntaxError\u001b[0m\u001b[1;31m:\u001b[0m invalid syntax\n"
     ]
    }
   ],
   "source": [
    "# We can also make our code above \"general-purpose\",\n",
    "#  so we can apply it to any list. In this cell,\n",
    "#  write a function called `check_for_nans()`\n",
    "#  that takes two inputs [a list and a string \n",
    "# (\"the list name\")] and two outputs [a boolean\n",
    "#  whether the list contains any nans (i.e., if\n",
    "#  the counter is greater than 0) and the\n",
    "#  number of nans in list (zero if no nans)]. \n",
    "\n",
    "# Note that there are many ways to accomplish\n",
    "#  this task, feel free to experiment \n",
    "# around with different approaches\n",
    "\n",
    "# Fill out this function, then try to \n",
    "# excecute the next cell to see if it works\n",
    "\n",
    "def check_for_nans(list_input, list_name='list'):\n",
    "    \"\"\"Check whether a list contains any nans\n",
    "\n",
    "    Args:\n",
    "        list_input (list): a list that contains the observations\n",
    "        list_name (string): a string containing the name of the variable\n",
    "    \n",
    "    Returns:\n",
    "        boolean: True if the list contains nans, False if not\n",
    "        int: number of nans found in list, zero if no nans\n",
    "    \"\"\"\n",
    "\n",
    "    ############################\n",
    "    # [INSERT CODE BELOW]\n",
    "    raise NotImplementedError(\"Student exercise: check if any inputted list contains nans, then delete this line\")\n",
    "    ############################\n",
    "\n",
    "    # loop through elements/observations in list\n",
    "    counter = 0 #initialize counter with 0\n",
    "    for index, ... in enumerate(...):\n",
    "        if ...\n",
    "            counter = ... #update counter if nan\n",
    "    \n",
    "    # check if list contains any nans\n",
    "    contains_nans = ...\n",
    "    \n",
    "    # print if contains_nans==True\n",
    "    if contains_nans:\n",
    "        print(f'{list_name} contains {counter} nans')\n",
    "    else:\n",
    "        print(f'{list_name} contains no nans')\n",
    "\n",
    "    return contains_nans, counter"
   ]
  },
  {
   "cell_type": "code",
   "execution_count": 10,
   "id": "yellow-intent",
   "metadata": {},
   "outputs": [
    {
     "ename": "NameError",
     "evalue": "name 'check_for_nans' is not defined",
     "output_type": "error",
     "traceback": [
      "\u001b[1;31m---------------------------------------------------------------------------\u001b[0m",
      "\u001b[1;31mNameError\u001b[0m                                 Traceback (most recent call last)",
      "\u001b[1;32m~\\AppData\\Local\\Temp/ipykernel_11968/153651912.py\u001b[0m in \u001b[0;36m<module>\u001b[1;34m\u001b[0m\n\u001b[0;32m      4\u001b[0m \u001b[1;31m# No need to edit, just execute cell!\u001b[0m\u001b[1;33m\u001b[0m\u001b[1;33m\u001b[0m\u001b[1;33m\u001b[0m\u001b[0m\n\u001b[0;32m      5\u001b[0m \u001b[1;33m\u001b[0m\u001b[0m\n\u001b[1;32m----> 6\u001b[1;33m antisociality_contains_nans, antisociality_nan_count = check_for_nans(antisociality, \n\u001b[0m\u001b[0;32m      7\u001b[0m                                                                       list_name='antisociality')\n\u001b[0;32m      8\u001b[0m distance_contains_nans, distance_nan_count = check_for_nans(distance, \n",
      "\u001b[1;31mNameError\u001b[0m: name 'check_for_nans' is not defined"
     ]
    }
   ],
   "source": [
    "# Run this cell to check your work. \n",
    "# This cell should output the line:\n",
    "# \"CONGRATS! LOOKS LIKE YOU DID IT!\"\n",
    "# No need to edit, just execute cell!\n",
    "\n",
    "antisociality_contains_nans, antisociality_nan_count = check_for_nans(antisociality, \n",
    "                                                                      list_name='antisociality')\n",
    "distance_contains_nans, distance_nan_count = check_for_nans(distance, \n",
    "                                                            list_name='distance')\n",
    "\n",
    "# This is a check to see if it works; \n",
    "# bonus point if you can summarize what we do here!\n",
    "##############\n",
    "new_list = [[1, np.nan, 2, 3, np.nan, 4, 5, 6, np.nan,7, 8, 9, np.nan],           # 4 \n",
    "            [1, 2, 3, 4, 5, 6, 7, 8, 9, 10],                                      # 0 \n",
    "            [np.nan, np.nan, np.nan, np.nan, np.nan, np.nan, np.nan, np.nan, 10]] # 8\n",
    "\n",
    "list_of_booleans = []\n",
    "list_of_counts = []\n",
    "for index, item in enumerate(new_list):\n",
    "    nans, counts = check_for_nans(item, list_name=f'list{index}')\n",
    "    list_of_booleans.append(nans)\n",
    "    list_of_counts.append(counts)\n",
    "\n",
    "if (list_of_booleans==[True,False,True]) and (list_of_counts==[4,0,8]):\n",
    "    print(\"CONGRATS! LOOKS LIKE YOU DID IT!\")\n",
    "##############"
   ]
  },
  {
   "cell_type": "code",
   "execution_count": 11,
   "id": "accomplished-sponsorship",
   "metadata": {},
   "outputs": [],
   "source": [
    "# Please convert this cell to a Markdown cell. \n",
    "# Create a Heading named \"Notebook Feedback,\" then provide 1-2 sentences about your experience with this Jupyter Notebook (e.g., Did you enjoy the exercises? Were they too easy/difficult? Would you have like to see anything different? Were you able to apply some skills we learned during class? Anything still confusing?). Finally, please rate your experience from (0) \"did not enjoy at all\" to (10) \"enjoyed a great deal.\" Only your instructor will see these responses. "
   ]
  }
 ],
 "metadata": {
  "colab": {
   "collapsed_sections": []
  },
  "execution": {
   "allow_errors": true
  },
  "jupyter": {
   "outputs_hidden": true
  },
  "kernelspec": {
   "display_name": "Python 3",
   "language": "python",
   "name": "python3"
  },
  "language_info": {
   "codemirror_mode": {
    "name": "ipython",
    "version": 3
   },
   "file_extension": ".py",
   "mimetype": "text/x-python",
   "name": "python",
   "nbconvert_exporter": "python",
   "pygments_lexer": "ipython3",
   "version": "3.7.10"
  }
 },
 "nbformat": 4,
 "nbformat_minor": 5
}