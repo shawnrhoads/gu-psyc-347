{
 "cells": [
  {
   "cell_type": "code",
   "execution_count": 1,
   "metadata": {},
   "outputs": [],
   "source": [
    "# Remember: Python requires you to explictly \"import\" libraries before their functions are available to use. We will always specify our imports at the beginning of each notebook.\n",
    "import pandas as pd, numpy as np"
   ]
  },
  {
   "cell_type": "code",
   "execution_count": 2,
   "metadata": {},
   "outputs": [],
   "source": [
    "# here, we are just going to download data from the web\n",
    "url = 'https://raw.githubusercontent.com/shawnrhoads/gu-psyc-347/master/docs/static/data/OConnell_COVID_MTurk_noPII_post_peerreview.csv'\n",
    "\n",
    "# load data specified in `filename` into dataframe `df`\n",
    "df = pd.read_csv(url)"
   ]
  },
  {
   "cell_type": "code",
   "execution_count": 3,
   "metadata": {},
   "outputs": [
    {
     "data": {
      "text/plain": [
       "pandas.core.frame.DataFrame"
      ]
     },
     "execution_count": 3,
     "metadata": {},
     "output_type": "execute_result"
    }
   ],
   "source": [
    "# check type of df\n",
    "type(df)"
   ]
  },
  {
   "cell_type": "code",
   "execution_count": 4,
   "metadata": {},
   "outputs": [
    {
     "name": "stdout",
     "output_type": "stream",
     "text": [
      "(131, 126)\n"
     ]
    }
   ],
   "source": [
    "# how many rows and columns are in df?\n",
    "print(df.values.shape) # N x M"
   ]
  },
  {
   "cell_type": "code",
   "execution_count": 5,
   "metadata": {},
   "outputs": [
    {
     "name": "stdout",
     "output_type": "stream",
     "text": [
      "   subID  mturk_randID  suspect_itaysisso        Country Region  \\\n",
      "0   1001          8797                  0  United States     CT   \n",
      "1   1002          3756                  0  United States     IL   \n",
      "2   1003          3798                  0  United States     OH   \n",
      "3   1004          2965                  0  United States     TX   \n",
      "4   1005          5953                  0  United States     NC   \n",
      "\n",
      "                                        ISP loc_US       loc_state  \\\n",
      "0  AS7015 Comcast Cable Communications, LLC    Yes     Connecticut   \n",
      "1                AS7018 AT&T Services, Inc.    Yes      California   \n",
      "2        AS10796 Charter Communications Inc    Yes            Ohio   \n",
      "3                AS7018 AT&T Services, Inc.    Yes           Texas   \n",
      "4            AS20115 Charter Communications    Yes  North Carolina   \n",
      "\n",
      "   loc_zipcode          loc_County  ...  education_4yr  STAB_total_centered  \\\n",
      "0         6511    New Haven County  ...              0            -3.946565   \n",
      "1        90280  Los Angeles County  ...              0            39.053436   \n",
      "2        44883       Seneca County  ...              0            40.053436   \n",
      "3        77019       Harris County  ...              1            -9.946565   \n",
      "4        28334      Sampson County  ...              0           -17.946566   \n",
      "\n",
      "   STAB_total_min32  silhouette_dist_X_min81 silhouette_dist_X_inches  \\\n",
      "0                19                    441.0               110.332750   \n",
      "1                62                    287.0                71.803856   \n",
      "2                63                    313.0                78.308731   \n",
      "3                13                    452.0               113.084820   \n",
      "4                 5                    297.0                74.305733   \n",
      "\n",
      "  violated_distancing STAB_rulebreak_rmECONOMIC  STAB_total_rmECONOMIC  \\\n",
      "0                   0                         9                     48   \n",
      "1                   1                        24                     88   \n",
      "2                   0                        23                     85   \n",
      "3                   0                         8                     42   \n",
      "4                   0                         8                     34   \n",
      "\n",
      "   STAB_total_rmECONOMIC_centered  household_income_coded_centered  \n",
      "0                       -2.076336                         1.269231  \n",
      "1                       37.923664                        -3.730769  \n",
      "2                       34.923664                        -2.730769  \n",
      "3                       -8.076336                              NaN  \n",
      "4                      -16.076336                        -2.730769  \n",
      "\n",
      "[5 rows x 126 columns]\n"
     ]
    }
   ],
   "source": [
    "# let's output the first 5 rows of the df\n",
    "print(df.head())"
   ]
  },
  {
   "cell_type": "code",
   "execution_count": 6,
   "metadata": {},
   "outputs": [
    {
     "name": "stdout",
     "output_type": "stream",
     "text": [
      "    column A  column B  column C\n",
      "0  -1.523546  1.244712  1.281714\n",
      "1   0.142749  0.326279 -1.028342\n",
      "2  -0.356448  1.236416 -0.024497\n",
      "3  -0.390965 -1.167132  1.169662\n",
      "4   0.254325 -0.379238 -0.476311\n",
      "5   0.717509 -0.204266 -0.484025\n",
      "6  -0.637719 -0.336181  1.184558\n",
      "7  -0.178774  1.829720 -1.561026\n",
      "8  -0.400764  0.091366  1.227388\n",
      "9  -1.894427 -1.312888  1.123745\n",
      "10  1.013734  2.124048 -2.320404\n",
      "11  1.797838  0.686147 -0.904062\n",
      "12  0.041463 -0.680991  0.149429\n",
      "13 -0.620775 -0.453663 -0.519136\n",
      "14 -0.964090 -0.754053  0.260249\n",
      "15  1.204661 -0.372964  0.257379\n",
      "16 -0.102147 -1.428105  0.160668\n",
      "17  1.527854 -1.262324  1.034834\n",
      "18  1.003885 -1.704753 -0.415267\n",
      "19  0.017227  0.114630 -0.494371\n"
     ]
    }
   ],
   "source": [
    "sim_df = pd.DataFrame(np.random.randn(20, 3), index=range(0,20), columns=[\"column A\", \"column B\", \"column C\"])\n",
    "print(sim_df)"
   ]
  },
  {
   "cell_type": "code",
   "execution_count": 7,
   "metadata": {
    "scrolled": true
   },
   "outputs": [
    {
     "name": "stdout",
     "output_type": "stream",
     "text": [
      "   COLUMN A  COLUMN B  COLUMN C\n",
      "0 -1.523546  1.244712  1.281714\n",
      "1  0.142749  0.326279 -1.028342\n",
      "2 -0.356448  1.236416 -0.024497\n",
      "3 -0.390965 -1.167132  1.169662\n",
      "4  0.254325 -0.379238 -0.476311\n"
     ]
    }
   ],
   "source": [
    "# e.g., change to upper case\n",
    "sim_df.columns = [x.upper() for x in sim_df.columns]\n",
    "print(sim_df.head()) #display first 5 rows"
   ]
  },
  {
   "cell_type": "code",
   "execution_count": 8,
   "metadata": {},
   "outputs": [
    {
     "name": "stdout",
     "output_type": "stream",
     "text": [
      "           A         B         C\n",
      "15  1.204661 -0.372964  0.257379\n",
      "16 -0.102147 -1.428105  0.160668\n",
      "17  1.527854 -1.262324  1.034834\n",
      "18  1.003885 -1.704753 -0.415267\n",
      "19  0.017227  0.114630 -0.494371\n"
     ]
    }
   ],
   "source": [
    "# e.g., change to last element in string\n",
    "sim_df.columns = [x[-1] for x in sim_df.columns]\n",
    "print(sim_df.tail()) #display last 5 rows"
   ]
  },
  {
   "cell_type": "code",
   "execution_count": 9,
   "metadata": {},
   "outputs": [
    {
     "data": {
      "text/plain": [
       "array([[0., 0., 0.],\n",
       "       [0., 0., 0.],\n",
       "       [0., 0., 0.]])"
      ]
     },
     "execution_count": 9,
     "metadata": {},
     "output_type": "execute_result"
    }
   ],
   "source": [
    "np.zeros((3,3))"
   ]
  },
  {
   "cell_type": "code",
   "execution_count": 10,
   "metadata": {},
   "outputs": [],
   "source": [
    "# create two new dataframes \n",
    "\n",
    "# the first will contain only zeros \n",
    "sim_df1 = pd.DataFrame(np.zeros((3, 3)), index=[20,21,22], columns=[\"A\", \"B\", \"C\"])\n",
    "\n",
    "# the second will contain only ones\n",
    "sim_df2 = pd.DataFrame(np.ones((3, 3)), index=[23,24,25], columns=[\"A\", \"B\", \"C\"])"
   ]
  },
  {
   "cell_type": "code",
   "execution_count": 11,
   "metadata": {},
   "outputs": [
    {
     "name": "stdout",
     "output_type": "stream",
     "text": [
      "           A         B         C\n",
      "0  -1.523546  1.244712  1.281714\n",
      "1   0.142749  0.326279 -1.028342\n",
      "2  -0.356448  1.236416 -0.024497\n",
      "3  -0.390965 -1.167132  1.169662\n",
      "4   0.254325 -0.379238 -0.476311\n",
      "5   0.717509 -0.204266 -0.484025\n",
      "6  -0.637719 -0.336181  1.184558\n",
      "7  -0.178774  1.829720 -1.561026\n",
      "8  -0.400764  0.091366  1.227388\n",
      "9  -1.894427 -1.312888  1.123745\n",
      "10  1.013734  2.124048 -2.320404\n",
      "11  1.797838  0.686147 -0.904062\n",
      "12  0.041463 -0.680991  0.149429\n",
      "13 -0.620775 -0.453663 -0.519136\n",
      "14 -0.964090 -0.754053  0.260249\n",
      "15  1.204661 -0.372964  0.257379\n",
      "16 -0.102147 -1.428105  0.160668\n",
      "17  1.527854 -1.262324  1.034834\n",
      "18  1.003885 -1.704753 -0.415267\n",
      "19  0.017227  0.114630 -0.494371\n",
      "20  0.000000  0.000000  0.000000\n",
      "21  0.000000  0.000000  0.000000\n",
      "22  0.000000  0.000000  0.000000\n",
      "23  1.000000  1.000000  1.000000\n",
      "24  1.000000  1.000000  1.000000\n",
      "25  1.000000  1.000000  1.000000\n"
     ]
    }
   ],
   "source": [
    "sim_dfs = [sim_df, sim_df1, sim_df2] # as list of dfs\n",
    "result = pd.concat(sim_dfs)\n",
    "print(result)"
   ]
  },
  {
   "cell_type": "code",
   "execution_count": 12,
   "metadata": {},
   "outputs": [
    {
     "name": "stdout",
     "output_type": "stream",
     "text": [
      "     A    B    C    D    E    F\n",
      "1  0.0  0.0  0.0  NaN  NaN  NaN\n",
      "2  0.0  0.0  0.0  1.0  1.0  1.0\n",
      "3  0.0  0.0  0.0  NaN  NaN  NaN\n",
      "4  NaN  NaN  NaN  1.0  1.0  1.0\n",
      "5  NaN  NaN  NaN  1.0  1.0  1.0\n"
     ]
    }
   ],
   "source": [
    "# the first will contain only zeros \n",
    "sim_df3 = pd.DataFrame(np.zeros((3, 3)), index=[1,2,3], columns=[\"A\", \"B\", \"C\"])\n",
    "\n",
    "# the second will contain only ones\n",
    "sim_df4 = pd.DataFrame(np.ones((3, 3)), index=[2,4,5], columns=[\"D\", \"E\", \"F\"])\n",
    "\n",
    "result2 = pd.concat([sim_df3, sim_df4], axis=1)\n",
    "print(result2)"
   ]
  },
  {
   "cell_type": "code",
   "execution_count": 13,
   "metadata": {},
   "outputs": [
    {
     "name": "stdout",
     "output_type": "stream",
     "text": [
      "     A    B    C    C    D    E    F\n",
      "1  0.0  0.0  0.0  NaN  NaN  NaN  NaN\n",
      "2  0.0  0.0  0.0  1.0  1.0  1.0  1.0\n",
      "3  0.0  0.0  0.0  NaN  NaN  NaN  NaN\n",
      "4  NaN  NaN  NaN  1.0  1.0  1.0  1.0\n",
      "5  NaN  NaN  NaN  1.0  1.0  1.0  1.0\n"
     ]
    }
   ],
   "source": [
    "# the first will contain only zeros \n",
    "sim_df5 = pd.DataFrame(np.zeros((3, 3)), index=[1,2,3], columns=[\"A\", \"B\", \"C\"])\n",
    "\n",
    "# the second will contain only ones\n",
    "sim_df6 = pd.DataFrame(np.ones((3, 4)), index=[2,4,5], columns=[\"C\", \"D\", \"E\", \"F\"])\n",
    "\n",
    "result3a = pd.concat([sim_df5, sim_df6], axis=1)\n",
    "print(result3a)"
   ]
  },
  {
   "cell_type": "code",
   "execution_count": 14,
   "metadata": {},
   "outputs": [
    {
     "name": "stdout",
     "output_type": "stream",
     "text": [
      "     A    B  C_x  C_y    D    E    F\n",
      "1  0.0  0.0  0.0  NaN  NaN  NaN  NaN\n",
      "2  0.0  0.0  0.0  1.0  1.0  1.0  1.0\n",
      "3  0.0  0.0  0.0  NaN  NaN  NaN  NaN\n",
      "4  NaN  NaN  NaN  1.0  1.0  1.0  1.0\n",
      "5  NaN  NaN  NaN  1.0  1.0  1.0  1.0\n"
     ]
    }
   ],
   "source": [
    "result3b = sim_df5.merge(sim_df6, how='outer', left_index=True, right_index=True)\n",
    "print(result3b)"
   ]
  },
  {
   "cell_type": "code",
   "execution_count": 15,
   "metadata": {},
   "outputs": [
    {
     "name": "stdout",
     "output_type": "stream",
     "text": [
      "     A    B    C    C    D    E    F\n",
      "2  0.0  0.0  0.0  1.0  1.0  1.0  1.0\n"
     ]
    }
   ],
   "source": [
    "result3c = pd.concat([sim_df5, sim_df6], axis=1, join='inner')\n",
    "print(result3c)"
   ]
  },
  {
   "cell_type": "code",
   "execution_count": 16,
   "metadata": {},
   "outputs": [
    {
     "data": {
      "text/plain": [
       "0      1001\n",
       "1      1002\n",
       "2      1003\n",
       "3      1004\n",
       "4      1005\n",
       "       ... \n",
       "126    1160\n",
       "127    1161\n",
       "128    1162\n",
       "129    1163\n",
       "130    1164\n",
       "Name: subID, Length: 131, dtype: int64"
      ]
     },
     "execution_count": 16,
     "metadata": {},
     "output_type": "execute_result"
    }
   ],
   "source": [
    "# first let's view the column \"subID\"\n",
    "df['subID']"
   ]
  },
  {
   "cell_type": "code",
   "execution_count": 17,
   "metadata": {},
   "outputs": [],
   "source": [
    "# now, let's change these value by adding a prefix 'sub_' and store in a new column called \"subID_2\"\n",
    "df['subID_2'] = ['sub_'+str(x) for x in df['subID']]"
   ]
  },
  {
   "cell_type": "code",
   "execution_count": 18,
   "metadata": {},
   "outputs": [
    {
     "data": {
      "text/plain": [
       "0      sub_1001\n",
       "1      sub_1002\n",
       "2      sub_1003\n",
       "3      sub_1004\n",
       "4      sub_1005\n",
       "         ...   \n",
       "126    sub_1160\n",
       "127    sub_1161\n",
       "128    sub_1162\n",
       "129    sub_1163\n",
       "130    sub_1164\n",
       "Name: subID_2, Length: 131, dtype: object"
      ]
     },
     "execution_count": 18,
     "metadata": {},
     "output_type": "execute_result"
    }
   ],
   "source": [
    "df['subID_2']"
   ]
  },
  {
   "cell_type": "code",
   "execution_count": 19,
   "metadata": {},
   "outputs": [
    {
     "name": "stdout",
     "output_type": "stream",
     "text": [
      "0    21\n",
      "Name: age, dtype: int64\n"
     ]
    }
   ],
   "source": [
    "print(df['age'][df['subID']==1001])"
   ]
  },
  {
   "cell_type": "code",
   "execution_count": 20,
   "metadata": {},
   "outputs": [
    {
     "data": {
      "text/plain": [
       "21"
      ]
     },
     "execution_count": 20,
     "metadata": {},
     "output_type": "execute_result"
    }
   ],
   "source": [
    "# if you know the index (row name), then you can use the `pd.DataFrame.loc` method\n",
    "df.loc[0,'age']"
   ]
  },
  {
   "cell_type": "code",
   "execution_count": 21,
   "metadata": {},
   "outputs": [],
   "source": [
    "for index,subject in enumerate(df['subID']):\n",
    "    df.loc[index,'new_col'] = df.loc[index,'age'] * df.loc[index,'STAB_total'] "
   ]
  },
  {
   "cell_type": "code",
   "execution_count": 22,
   "metadata": {},
   "outputs": [],
   "source": [
    "sub_ids = df['subID'].values"
   ]
  },
  {
   "cell_type": "code",
   "execution_count": 23,
   "metadata": {},
   "outputs": [
    {
     "name": "stdout",
     "output_type": "stream",
     "text": [
      "[1001 1002 1003 1004 1005 1007 1011 1013 1014 1015 1016 1017 1021 1022\n",
      " 1023 1024 1026 1028 1029 1032 1033 1034 1035 1040 1043 1044 1045 1047\n",
      " 1048 1049 1051 1053 1054 1056 1057 1058 1059 1060 1061 1062 1063 1064\n",
      " 1066 1068 1069 1070 1071 1072 1073 1074 1075 1076 1077 1078 1079 1080\n",
      " 1082 1083 1084 1085 1086 1087 1088 1089 1090 1091 1092 1093 1094 1095\n",
      " 1096 1098 1099 1100 1101 1102 1104 1105 1107 1108 1109 1110 1111 1112\n",
      " 1113 1114 1115 1116 1117 1118 1119 1120 1121 1122 1123 1124 1125 1126\n",
      " 1127 1128 1129 1130 1131 1132 1133 1134 1135 1136 1137 1138 1139 1141\n",
      " 1144 1145 1146 1147 1148 1149 1150 1151 1152 1154 1155 1156 1157 1158\n",
      " 1160 1161 1162 1163 1164]\n"
     ]
    }
   ],
   "source": [
    "print(sub_ids)"
   ]
  },
  {
   "cell_type": "code",
   "execution_count": 24,
   "metadata": {},
   "outputs": [
    {
     "name": "stdout",
     "output_type": "stream",
     "text": [
      "<class 'numpy.ndarray'>\n"
     ]
    }
   ],
   "source": [
    "print(type(sub_ids))"
   ]
  },
  {
   "cell_type": "code",
   "execution_count": 25,
   "metadata": {},
   "outputs": [
    {
     "name": "stdout",
     "output_type": "stream",
     "text": [
      "                             0              1              2              3    \\\n",
      "subID                       1001           1002           1003           1004   \n",
      "mturk_randID                8797           3756           3798           2965   \n",
      "suspect_itaysisso              0              0              0              0   \n",
      "Country            United States  United States  United States  United States   \n",
      "Region                        CT             IL             OH             TX   \n",
      "\n",
      "                             4              5              6              7    \\\n",
      "subID                       1005           1007           1011           1013   \n",
      "mturk_randID                5953           8133           2500           7655   \n",
      "suspect_itaysisso              0              0              0              0   \n",
      "Country            United States  United States  United States  United States   \n",
      "Region                        NC             MA             FL             WI   \n",
      "\n",
      "                             8              9    ...            121  \\\n",
      "subID                       1014           1015  ...           1154   \n",
      "mturk_randID                4616           2318  ...           1123   \n",
      "suspect_itaysisso              0              0  ...              0   \n",
      "Country            United States  United States  ...  United States   \n",
      "Region                        MD             LA  ...             NC   \n",
      "\n",
      "                             122            123            124            125  \\\n",
      "subID                       1155           1156           1157           1158   \n",
      "mturk_randID                2455           7875           6828           3775   \n",
      "suspect_itaysisso              0              0              0              0   \n",
      "Country            United States  United States  United States  United States   \n",
      "Region                        ID             CA             AZ             CO   \n",
      "\n",
      "                             126            127            128            129  \\\n",
      "subID                       1160           1161           1162           1163   \n",
      "mturk_randID                1459           7557           6617           5071   \n",
      "suspect_itaysisso              0              0              0              0   \n",
      "Country            United States  United States  United States  United States   \n",
      "Region                        IL             WA             CA             KY   \n",
      "\n",
      "                             130  \n",
      "subID                       1164  \n",
      "mturk_randID                7031  \n",
      "suspect_itaysisso              0  \n",
      "Country            United States  \n",
      "Region                        MO  \n",
      "\n",
      "[5 rows x 131 columns]\n"
     ]
    }
   ],
   "source": [
    "print(df.T.head())"
   ]
  },
  {
   "cell_type": "code",
   "execution_count": 26,
   "metadata": {},
   "outputs": [
    {
     "data": {
      "text/plain": [
       "36.33587786259542"
      ]
     },
     "execution_count": 26,
     "metadata": {},
     "output_type": "execute_result"
    }
   ],
   "source": [
    "# mean of a column\n",
    "df[\"age\"].mean()"
   ]
  },
  {
   "cell_type": "code",
   "execution_count": 27,
   "metadata": {},
   "outputs": [
    {
     "data": {
      "text/plain": [
       "age           36.335878\n",
       "STAB_total    54.946565\n",
       "dtype: float64"
      ]
     },
     "execution_count": 27,
     "metadata": {},
     "output_type": "execute_result"
    }
   ],
   "source": [
    "# mean of multiple columns\n",
    "df[[\"age\",\"STAB_total\"]].mean()"
   ]
  },
  {
   "cell_type": "code",
   "execution_count": 28,
   "metadata": {},
   "outputs": [
    {
     "data": {
      "text/plain": [
       "34.0"
      ]
     },
     "execution_count": 28,
     "metadata": {},
     "output_type": "execute_result"
    }
   ],
   "source": [
    "# median of a column\n",
    "df[\"age\"].median()"
   ]
  },
  {
   "cell_type": "code",
   "execution_count": 29,
   "metadata": {},
   "outputs": [
    {
     "data": {
      "text/html": [
       "<div>\n",
       "<style scoped>\n",
       "    .dataframe tbody tr th:only-of-type {\n",
       "        vertical-align: middle;\n",
       "    }\n",
       "\n",
       "    .dataframe tbody tr th {\n",
       "        vertical-align: top;\n",
       "    }\n",
       "\n",
       "    .dataframe thead th {\n",
       "        text-align: right;\n",
       "    }\n",
       "</style>\n",
       "<table border=\"1\" class=\"dataframe\">\n",
       "  <thead>\n",
       "    <tr style=\"text-align: right;\">\n",
       "      <th></th>\n",
       "      <th>age</th>\n",
       "      <th>STAB_total</th>\n",
       "    </tr>\n",
       "  </thead>\n",
       "  <tbody>\n",
       "    <tr>\n",
       "      <th>count</th>\n",
       "      <td>131.000000</td>\n",
       "      <td>131.000000</td>\n",
       "    </tr>\n",
       "    <tr>\n",
       "      <th>mean</th>\n",
       "      <td>36.335878</td>\n",
       "      <td>54.946565</td>\n",
       "    </tr>\n",
       "    <tr>\n",
       "      <th>std</th>\n",
       "      <td>10.075569</td>\n",
       "      <td>30.095569</td>\n",
       "    </tr>\n",
       "    <tr>\n",
       "      <th>min</th>\n",
       "      <td>21.000000</td>\n",
       "      <td>32.000000</td>\n",
       "    </tr>\n",
       "    <tr>\n",
       "      <th>25%</th>\n",
       "      <td>29.500000</td>\n",
       "      <td>35.000000</td>\n",
       "    </tr>\n",
       "    <tr>\n",
       "      <th>50%</th>\n",
       "      <td>34.000000</td>\n",
       "      <td>42.000000</td>\n",
       "    </tr>\n",
       "    <tr>\n",
       "      <th>75%</th>\n",
       "      <td>41.000000</td>\n",
       "      <td>55.500000</td>\n",
       "    </tr>\n",
       "    <tr>\n",
       "      <th>max</th>\n",
       "      <td>65.000000</td>\n",
       "      <td>139.000000</td>\n",
       "    </tr>\n",
       "  </tbody>\n",
       "</table>\n",
       "</div>"
      ],
      "text/plain": [
       "              age  STAB_total\n",
       "count  131.000000  131.000000\n",
       "mean    36.335878   54.946565\n",
       "std     10.075569   30.095569\n",
       "min     21.000000   32.000000\n",
       "25%     29.500000   35.000000\n",
       "50%     34.000000   42.000000\n",
       "75%     41.000000   55.500000\n",
       "max     65.000000  139.000000"
      ]
     },
     "execution_count": 29,
     "metadata": {},
     "output_type": "execute_result"
    }
   ],
   "source": [
    "# compute a summary of metrics on columns\n",
    "df[[\"age\", \"STAB_total\"]].describe()"
   ]
  },
  {
   "cell_type": "code",
   "execution_count": 30,
   "metadata": {},
   "outputs": [
    {
     "data": {
      "text/html": [
       "<div>\n",
       "<style scoped>\n",
       "    .dataframe tbody tr th:only-of-type {\n",
       "        vertical-align: middle;\n",
       "    }\n",
       "\n",
       "    .dataframe tbody tr th {\n",
       "        vertical-align: top;\n",
       "    }\n",
       "\n",
       "    .dataframe thead th {\n",
       "        text-align: right;\n",
       "    }\n",
       "</style>\n",
       "<table border=\"1\" class=\"dataframe\">\n",
       "  <thead>\n",
       "    <tr style=\"text-align: right;\">\n",
       "      <th></th>\n",
       "      <th>age</th>\n",
       "      <th>STAB_total</th>\n",
       "    </tr>\n",
       "    <tr>\n",
       "      <th>sex</th>\n",
       "      <th></th>\n",
       "      <th></th>\n",
       "    </tr>\n",
       "  </thead>\n",
       "  <tbody>\n",
       "    <tr>\n",
       "      <th>Female</th>\n",
       "      <td>38.264151</td>\n",
       "      <td>49.792453</td>\n",
       "    </tr>\n",
       "    <tr>\n",
       "      <th>Male</th>\n",
       "      <td>35.025641</td>\n",
       "      <td>58.448718</td>\n",
       "    </tr>\n",
       "  </tbody>\n",
       "</table>\n",
       "</div>"
      ],
      "text/plain": [
       "              age  STAB_total\n",
       "sex                          \n",
       "Female  38.264151   49.792453\n",
       "Male    35.025641   58.448718"
      ]
     },
     "execution_count": 30,
     "metadata": {},
     "output_type": "execute_result"
    }
   ],
   "source": [
    "# group means by sex\n",
    "df.groupby(\"sex\")[[\"age\", \"STAB_total\"]].mean()"
   ]
  },
  {
   "cell_type": "code",
   "execution_count": 31,
   "metadata": {},
   "outputs": [
    {
     "data": {
      "text/html": [
       "<div>\n",
       "<style scoped>\n",
       "    .dataframe tbody tr th:only-of-type {\n",
       "        vertical-align: middle;\n",
       "    }\n",
       "\n",
       "    .dataframe tbody tr th {\n",
       "        vertical-align: top;\n",
       "    }\n",
       "\n",
       "    .dataframe thead th {\n",
       "        text-align: right;\n",
       "    }\n",
       "</style>\n",
       "<table border=\"1\" class=\"dataframe\">\n",
       "  <thead>\n",
       "    <tr style=\"text-align: right;\">\n",
       "      <th></th>\n",
       "      <th></th>\n",
       "      <th>age</th>\n",
       "      <th>STAB_total</th>\n",
       "    </tr>\n",
       "    <tr>\n",
       "      <th>sex</th>\n",
       "      <th>education_coded</th>\n",
       "      <th></th>\n",
       "      <th></th>\n",
       "    </tr>\n",
       "  </thead>\n",
       "  <tbody>\n",
       "    <tr>\n",
       "      <th rowspan=\"5\" valign=\"top\">Female</th>\n",
       "      <th>Four-year college degree (B.A., B.S.)</th>\n",
       "      <td>37.592593</td>\n",
       "      <td>54.074074</td>\n",
       "    </tr>\n",
       "    <tr>\n",
       "      <th>High school graduate or G.E.D.</th>\n",
       "      <td>42.400000</td>\n",
       "      <td>37.600000</td>\n",
       "    </tr>\n",
       "    <tr>\n",
       "      <th>Master's degree (for example, M.B.A., M.A., M.S.)</th>\n",
       "      <td>38.200000</td>\n",
       "      <td>55.800000</td>\n",
       "    </tr>\n",
       "    <tr>\n",
       "      <th>Some college</th>\n",
       "      <td>38.875000</td>\n",
       "      <td>48.875000</td>\n",
       "    </tr>\n",
       "    <tr>\n",
       "      <th>Two-year college degree (A.A., A.S.)</th>\n",
       "      <td>37.375000</td>\n",
       "      <td>40.125000</td>\n",
       "    </tr>\n",
       "    <tr>\n",
       "      <th rowspan=\"6\" valign=\"top\">Male</th>\n",
       "      <th>Doctoral or professional degree (for example, Ph.D., M.D., J.D., D.V.M., D.D.M)</th>\n",
       "      <td>31.500000</td>\n",
       "      <td>34.500000</td>\n",
       "    </tr>\n",
       "    <tr>\n",
       "      <th>Four-year college degree (B.A., B.S.)</th>\n",
       "      <td>35.125000</td>\n",
       "      <td>64.000000</td>\n",
       "    </tr>\n",
       "    <tr>\n",
       "      <th>High school graduate or G.E.D.</th>\n",
       "      <td>31.777778</td>\n",
       "      <td>63.888889</td>\n",
       "    </tr>\n",
       "    <tr>\n",
       "      <th>Master's degree (for example, M.B.A., M.A., M.S.)</th>\n",
       "      <td>39.000000</td>\n",
       "      <td>77.375000</td>\n",
       "    </tr>\n",
       "    <tr>\n",
       "      <th>Some college</th>\n",
       "      <td>34.368421</td>\n",
       "      <td>48.157895</td>\n",
       "    </tr>\n",
       "    <tr>\n",
       "      <th>Two-year college degree (A.A., A.S.)</th>\n",
       "      <td>36.750000</td>\n",
       "      <td>41.625000</td>\n",
       "    </tr>\n",
       "  </tbody>\n",
       "</table>\n",
       "</div>"
      ],
      "text/plain": [
       "                                                                 age  \\\n",
       "sex    education_coded                                                 \n",
       "Female Four-year college degree (B.A., B.S.)               37.592593   \n",
       "       High school graduate or G.E.D.                      42.400000   \n",
       "       Master's degree (for example, M.B.A., M.A., M.S.)   38.200000   \n",
       "       Some college                                        38.875000   \n",
       "       Two-year college degree (A.A., A.S.)                37.375000   \n",
       "Male   Doctoral or professional degree (for example, P...  31.500000   \n",
       "       Four-year college degree (B.A., B.S.)               35.125000   \n",
       "       High school graduate or G.E.D.                      31.777778   \n",
       "       Master's degree (for example, M.B.A., M.A., M.S.)   39.000000   \n",
       "       Some college                                        34.368421   \n",
       "       Two-year college degree (A.A., A.S.)                36.750000   \n",
       "\n",
       "                                                           STAB_total  \n",
       "sex    education_coded                                                 \n",
       "Female Four-year college degree (B.A., B.S.)                54.074074  \n",
       "       High school graduate or G.E.D.                       37.600000  \n",
       "       Master's degree (for example, M.B.A., M.A., M.S.)    55.800000  \n",
       "       Some college                                         48.875000  \n",
       "       Two-year college degree (A.A., A.S.)                 40.125000  \n",
       "Male   Doctoral or professional degree (for example, P...   34.500000  \n",
       "       Four-year college degree (B.A., B.S.)                64.000000  \n",
       "       High school graduate or G.E.D.                       63.888889  \n",
       "       Master's degree (for example, M.B.A., M.A., M.S.)    77.375000  \n",
       "       Some college                                         48.157895  \n",
       "       Two-year college degree (A.A., A.S.)                 41.625000  "
      ]
     },
     "execution_count": 31,
     "metadata": {},
     "output_type": "execute_result"
    }
   ],
   "source": [
    "# group means by sex and education\n",
    "df.groupby([\"sex\",\"education_coded\"])[[\"age\", \"STAB_total\"]].mean()"
   ]
  },
  {
   "cell_type": "code",
   "execution_count": 32,
   "metadata": {},
   "outputs": [
    {
     "data": {
      "text/html": [
       "<div>\n",
       "<style scoped>\n",
       "    .dataframe tbody tr th:only-of-type {\n",
       "        vertical-align: middle;\n",
       "    }\n",
       "\n",
       "    .dataframe tbody tr th {\n",
       "        vertical-align: top;\n",
       "    }\n",
       "\n",
       "    .dataframe thead th {\n",
       "        text-align: right;\n",
       "    }\n",
       "</style>\n",
       "<table border=\"1\" class=\"dataframe\">\n",
       "  <thead>\n",
       "    <tr style=\"text-align: right;\">\n",
       "      <th></th>\n",
       "      <th></th>\n",
       "      <th>age</th>\n",
       "      <th>STAB_total</th>\n",
       "    </tr>\n",
       "    <tr>\n",
       "      <th>sex</th>\n",
       "      <th>education_coded</th>\n",
       "      <th></th>\n",
       "      <th></th>\n",
       "    </tr>\n",
       "  </thead>\n",
       "  <tbody>\n",
       "    <tr>\n",
       "      <th rowspan=\"5\" valign=\"top\">Female</th>\n",
       "      <th>Four-year college degree (B.A., B.S.)</th>\n",
       "      <td>27</td>\n",
       "      <td>27</td>\n",
       "    </tr>\n",
       "    <tr>\n",
       "      <th>High school graduate or G.E.D.</th>\n",
       "      <td>5</td>\n",
       "      <td>5</td>\n",
       "    </tr>\n",
       "    <tr>\n",
       "      <th>Master's degree (for example, M.B.A., M.A., M.S.)</th>\n",
       "      <td>5</td>\n",
       "      <td>5</td>\n",
       "    </tr>\n",
       "    <tr>\n",
       "      <th>Some college</th>\n",
       "      <td>8</td>\n",
       "      <td>8</td>\n",
       "    </tr>\n",
       "    <tr>\n",
       "      <th>Two-year college degree (A.A., A.S.)</th>\n",
       "      <td>8</td>\n",
       "      <td>8</td>\n",
       "    </tr>\n",
       "    <tr>\n",
       "      <th rowspan=\"6\" valign=\"top\">Male</th>\n",
       "      <th>Doctoral or professional degree (for example, Ph.D., M.D., J.D., D.V.M., D.D.M)</th>\n",
       "      <td>2</td>\n",
       "      <td>2</td>\n",
       "    </tr>\n",
       "    <tr>\n",
       "      <th>Four-year college degree (B.A., B.S.)</th>\n",
       "      <td>32</td>\n",
       "      <td>32</td>\n",
       "    </tr>\n",
       "    <tr>\n",
       "      <th>High school graduate or G.E.D.</th>\n",
       "      <td>9</td>\n",
       "      <td>9</td>\n",
       "    </tr>\n",
       "    <tr>\n",
       "      <th>Master's degree (for example, M.B.A., M.A., M.S.)</th>\n",
       "      <td>8</td>\n",
       "      <td>8</td>\n",
       "    </tr>\n",
       "    <tr>\n",
       "      <th>Some college</th>\n",
       "      <td>19</td>\n",
       "      <td>19</td>\n",
       "    </tr>\n",
       "    <tr>\n",
       "      <th>Two-year college degree (A.A., A.S.)</th>\n",
       "      <td>8</td>\n",
       "      <td>8</td>\n",
       "    </tr>\n",
       "  </tbody>\n",
       "</table>\n",
       "</div>"
      ],
      "text/plain": [
       "                                                           age  STAB_total\n",
       "sex    education_coded                                                    \n",
       "Female Four-year college degree (B.A., B.S.)                27          27\n",
       "       High school graduate or G.E.D.                        5           5\n",
       "       Master's degree (for example, M.B.A., M.A., M.S.)     5           5\n",
       "       Some college                                          8           8\n",
       "       Two-year college degree (A.A., A.S.)                  8           8\n",
       "Male   Doctoral or professional degree (for example, P...    2           2\n",
       "       Four-year college degree (B.A., B.S.)                32          32\n",
       "       High school graduate or G.E.D.                        9           9\n",
       "       Master's degree (for example, M.B.A., M.A., M.S.)     8           8\n",
       "       Some college                                         19          19\n",
       "       Two-year college degree (A.A., A.S.)                  8           8"
      ]
     },
     "execution_count": 32,
     "metadata": {},
     "output_type": "execute_result"
    }
   ],
   "source": [
    "# group counts by sex and education\n",
    "df.groupby([\"sex\",\"education_coded\"])[[\"age\", \"STAB_total\"]].count()"
   ]
  },
  {
   "cell_type": "code",
   "execution_count": 33,
   "metadata": {},
   "outputs": [
    {
     "data": {
      "text/html": [
       "<div>\n",
       "<style scoped>\n",
       "    .dataframe tbody tr th:only-of-type {\n",
       "        vertical-align: middle;\n",
       "    }\n",
       "\n",
       "    .dataframe tbody tr th {\n",
       "        vertical-align: top;\n",
       "    }\n",
       "\n",
       "    .dataframe thead th {\n",
       "        text-align: right;\n",
       "    }\n",
       "</style>\n",
       "<table border=\"1\" class=\"dataframe\">\n",
       "  <thead>\n",
       "    <tr style=\"text-align: right;\">\n",
       "      <th></th>\n",
       "      <th>age</th>\n",
       "      <th>STAB_total</th>\n",
       "      <th>socialdistancing</th>\n",
       "    </tr>\n",
       "  </thead>\n",
       "  <tbody>\n",
       "    <tr>\n",
       "      <th>age</th>\n",
       "      <td>1.000000</td>\n",
       "      <td>-0.145465</td>\n",
       "      <td>0.007075</td>\n",
       "    </tr>\n",
       "    <tr>\n",
       "      <th>STAB_total</th>\n",
       "      <td>-0.145465</td>\n",
       "      <td>1.000000</td>\n",
       "      <td>-0.335639</td>\n",
       "    </tr>\n",
       "    <tr>\n",
       "      <th>socialdistancing</th>\n",
       "      <td>0.007075</td>\n",
       "      <td>-0.335639</td>\n",
       "      <td>1.000000</td>\n",
       "    </tr>\n",
       "  </tbody>\n",
       "</table>\n",
       "</div>"
      ],
      "text/plain": [
       "                       age  STAB_total  socialdistancing\n",
       "age               1.000000   -0.145465          0.007075\n",
       "STAB_total       -0.145465    1.000000         -0.335639\n",
       "socialdistancing  0.007075   -0.335639          1.000000"
      ]
     },
     "execution_count": 33,
     "metadata": {},
     "output_type": "execute_result"
    }
   ],
   "source": [
    "df[[\"age\",\"STAB_total\",\"socialdistancing\"]].corr(method=\"spearman\")"
   ]
  },
  {
   "cell_type": "code",
   "execution_count": 34,
   "metadata": {},
   "outputs": [],
   "source": [
    "import matplotlib.pyplot as plt\n",
    "%matplotlib inline"
   ]
  },
  {
   "cell_type": "code",
   "execution_count": 35,
   "metadata": {},
   "outputs": [
    {
     "data": {
      "text/plain": [
       "Text(0, 0.5, 'Number of Subjects')"
      ]
     },
     "execution_count": 35,
     "metadata": {},
     "output_type": "execute_result"
    },
    {
     "data": {
      "image/png": "[encoded data removed]",
      "text/plain": [
       "<Figure size 432x288 with 1 Axes>"
      ]
     },
     "metadata": {
      "needs_background": "light"
     },
     "output_type": "display_data"
    }
   ],
   "source": [
    "plt.hist(df['age'], bins=9)\n",
    "plt.xlabel(\"Age\")\n",
    "plt.ylabel(\"Number of Subjects\")"
   ]
  },
  {
   "cell_type": "code",
   "execution_count": 36,
   "metadata": {},
   "outputs": [
    {
     "name": "stdout",
     "output_type": "stream",
     "text": [
      "63.4% of subjects are below the mean\n"
     ]
    }
   ],
   "source": [
    "mean_age = np.mean(df['age'])\n",
    "frac_below_mean = (df['age'] < mean_age).mean()\n",
    "print(f\"{frac_below_mean:2.1%} of subjects are below the mean\")"
   ]
  },
  {
   "cell_type": "code",
   "execution_count": 37,
   "metadata": {},
   "outputs": [
    {
     "data": {
      "text/plain": [
       "<matplotlib.legend.Legend at 0x174e572d908>"
      ]
     },
     "execution_count": 37,
     "metadata": {},
     "output_type": "execute_result"
    },
    {
     "data": {
      "image/png": "[encoded data removed]",
      "text/plain": [
       "<Figure size 432x288 with 1 Axes>"
      ]
     },
     "metadata": {
      "needs_background": "light"
     },
     "output_type": "display_data"
    }
   ],
   "source": [
    "plt.hist(df['age'], bins=9)\n",
    "plt.xlabel(\"Age\")\n",
    "plt.ylabel(\"Number of Subjects\")\n",
    "\n",
    "plt.axvline(mean_age, color=\"orange\", label=\"Mean Age\")\n",
    "plt.legend()"
   ]
  },
  {
   "cell_type": "code",
   "execution_count": 38,
   "metadata": {},
   "outputs": [
    {
     "data": {
      "text/plain": [
       "<matplotlib.legend.Legend at 0x174e5828b08>"
      ]
     },
     "execution_count": 38,
     "metadata": {},
     "output_type": "execute_result"
    },
    {
     "data": {
      "image/png": "[encoded data removed]",
      "text/plain": [
       "<Figure size 432x288 with 1 Axes>"
      ]
     },
     "metadata": {
      "needs_background": "light"
     },
     "output_type": "display_data"
    }
   ],
   "source": [
    "med_age = np.median(df['age'])\n",
    "\n",
    "plt.hist(df['age'], bins=9)\n",
    "plt.xlabel(\"Age\")\n",
    "plt.ylabel(\"Number of Subjects\")\n",
    "\n",
    "plt.axvline(mean_age, color=\"orange\", label=\"Mean Age\")\n",
    "plt.axvline(med_age, color=\"black\", label=\"Median Age\")\n",
    "\n",
    "plt.legend()"
   ]
  }
 ],
 "metadata": {
  "celltoolbar": "Edit Metadata",
  "colab": {
   "collapsed_sections": []
  },
  "kernelspec": {
   "display_name": "Python 3",
   "language": "python",
   "name": "python3"
  },
  "language_info": {
   "codemirror_mode": {
    "name": "ipython",
    "version": 3
   },
   "file_extension": ".py",
   "mimetype": "text/x-python",
   "name": "python",
   "nbconvert_exporter": "python",
   "pygments_lexer": "ipython3",
   "version": "3.7.10"
  }
 },
 "nbformat": 4,
 "nbformat_minor": 4
}