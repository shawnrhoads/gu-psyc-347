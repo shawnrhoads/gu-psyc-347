{
 "cells": [
  {
   "cell_type": "code",
   "execution_count": 1,
   "id": "earned-prototype",
   "metadata": {},
   "outputs": [],
   "source": [
    "# first let's import our packages\n",
    "\n",
    "from scipy.optimize import minimize # finding optimal params in models\n",
    "from scipy import stats             # statistical tools\n",
    "import os                           # operating system tools\n",
    "import numpy as np                  # matrix/array functions\n",
    "import pandas as pd                 # loading and manipulating data\n",
    "import ipywidgets as widgets        # interactive display\n",
    "import matplotlib.pyplot as plt     # plotting\n",
    "%matplotlib inline\n",
    "\n",
    "np.random.seed(2021)                # set seed for reproducibility"
   ]
  },
  {
   "cell_type": "code",
   "execution_count": 2,
   "id": "checked-mechanics",
   "metadata": {},
   "outputs": [],
   "source": [
    "# this function will load the data into memory (assuming that\n",
    "# the data are downloaded)\n",
    "def load_subjects(how_many=15):\n",
    "    '''\n",
    "    input: number of subjects' data to load from 1-14\n",
    "    output: dictionary of DataFrames containing the data\n",
    "    '''\n",
    "    \n",
    "    assert (how_many > 0) and (how_many <= 15), \"0 < how_many < 15\"\n",
    "    files = urls = [f'https://raw.githubusercontent.com/shawnrhoads/gu-psyc-347/master/docs/static/data/sub-{x:02}_RLdata.csv' for x in range(0,how_many)]\n",
    "    \n",
    "    subject_data = {}\n",
    "    for index, file in enumerate(files):\n",
    "        subject_data[index] = pd.read_csv(file, index_col=0)\n",
    "    \n",
    "    return subject_data"
   ]
  },
  {
   "cell_type": "code",
   "execution_count": 3,
   "id": "dangerous-pound",
   "metadata": {},
   "outputs": [],
   "source": [
    "# let's load in our data using the function above\n",
    "# feel free to adjust `how_many` (the default is all 15 subjects)\n",
    "subject_data = load_subjects()"
   ]
  },
  {
   "cell_type": "code",
   "execution_count": 4,
   "id": "extra-reading",
   "metadata": {},
   "outputs": [],
   "source": [
    "# [INSERT CODE BELOW]\n"
   ]
  },
  {
   "cell_type": "code",
   "execution_count": 5,
   "id": "regulated-thunder",
   "metadata": {
    "scrolled": false
   },
   "outputs": [],
   "source": [
    "# [INSERT CODE BELOW]\n"
   ]
  },
  {
   "cell_type": "code",
   "execution_count": 6,
   "id": "fifty-chile",
   "metadata": {},
   "outputs": [],
   "source": [
    "def plot_behavior(subject_data, subject_id, choices=False, outcomes=False, probability=False):\n",
    "    '''\n",
    "    input: \n",
    "        subject_data: dictionary containing\n",
    "        subject_id: integer from 0-14 corresponding to an ID number\n",
    "        choices: boolean indicating whether to plot choices or not\n",
    "        outcomes: boolean indicating whether to plot outcomes or not\n",
    "        probability: boolean indicating whether to plot the mean reward over trials for both stimuli or not\n",
    "    output:\n",
    "        plot of behavior\n",
    "    '''\n",
    "    assert type(subject_data) is dict, \"`subject_data` should be a dictionary, run the `load_subjects()` function above to load the data into memory\"\n",
    "    assert type(subject_id) is int and subject_id >= 0 and subject_id <= 14, \"`subject_id` should be an integer between 0 and 14\"\n",
    "    \n",
    "    data = subject_data[subject_id]\n",
    "    \n",
    "    if probability:\n",
    "        plt.axhline(np.mean(data[data.choice==0].outcome), color=\"orange\", alpha=.4, label=data.columns[0])\n",
    "        plt.axhline(np.mean(data[data.choice==1].outcome), color=\"purple\", alpha=.4, label=data.columns[1])\n",
    "        \n",
    "    if outcomes:\n",
    "        plt.plot(range(len(data)), data.outcome, 'r--', alpha=.6, label='outcome')\n",
    "    if choices:\n",
    "        if np.mean(data.choice) < .5:\n",
    "            choice_data = [0 if x == 1 else 1 for x in data.choice]\n",
    "        else:\n",
    "            choice_data = [x for x in data.choice]\n",
    "        plt.plot(range(len(data)), choice_data, '+', label='choice')\n",
    "    \n",
    "    plt.xlabel('trials')\n",
    "    plt.ylabel('outcome')\n",
    "    plt.title(f'Behavior from subject #{subject_id}')\n",
    "    plt.legend()\n",
    "    plt.show()"
   ]
  },
  {
   "cell_type": "code",
   "execution_count": 7,
   "id": "minor-computer",
   "metadata": {
    "scrolled": false
   },
   "outputs": [],
   "source": [
    "# [INSERT CODE BELOW]\n"
   ]
  },
  {
   "cell_type": "code",
   "execution_count": 8,
   "id": "dated-cologne",
   "metadata": {},
   "outputs": [],
   "source": [
    "# [INSERT CODE BELOW]\n"
   ]
  },
  {
   "cell_type": "code",
   "execution_count": 9,
   "id": "minimal-player",
   "metadata": {},
   "outputs": [],
   "source": [
    "# Finally, please convert this cell to a Markdown cell.\n",
    "\n",
    "# Create a Heading named \"Notebook Feedback,\" then delete this text \n",
    "# and provide 1-2 sentences about your experience with this \n",
    "# Jupyter Notebook (e.g., Did you enjoy the exercises? Were \n",
    "# they too easy/difficult? Would you have like to see \n",
    "# anything different? Were you able to apply some skills we learned during\n",
    "# class? Anything still confusing?). Finally, please rate your experience\n",
    "# from (0) \"did not enjoy at all\" to (10) \"enjoyed a great deal.\" Only your\n",
    "# instructor will see these responses. "
   ]
  }
 ],
 "metadata": {
  "colab": {
   "collapsed_sections": []
  },
  "execution": {
   "allow_errors": true
  },
  "kernelspec": {
   "display_name": "Python 3",
   "language": "python",
   "name": "python3"
  },
  "language_info": {
   "codemirror_mode": {
    "name": "ipython",
    "version": 3
   },
   "file_extension": ".py",
   "mimetype": "text/x-python",
   "name": "python",
   "nbconvert_exporter": "python",
   "pygments_lexer": "ipython3",
   "version": "3.7.10"
  }
 },
 "nbformat": 4,
 "nbformat_minor": 5
}