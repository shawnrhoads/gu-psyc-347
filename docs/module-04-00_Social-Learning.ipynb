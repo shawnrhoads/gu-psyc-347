{
 "cells": [
  {
   "cell_type": "markdown",
   "id": "periodic-carolina",
   "metadata": {},
   "source": [
    "<a target=\"_blank\" rel=\"noopener noreferrer\" href=\"https://colab.research.google.com/github/shawnrhoads/gu-psyc-347/blob/master/docs/module-04-00_Social-Learning.ipynb\">![Open In Colab](https://colab.research.google.com/assets/colab-badge.svg)</a>\n",
    "\n",
    "# Social Learning\n",
    "\n",
    "These exercises were inspired by and adapted from [Models of Learning](http://www.hannekedenouden.ruhosting.nl/RLtutorial/Instructions.html) by Jill O'Reilly and Hanneke den Ouden, [NSCS 344 - Modeling the Mind](http://u.arizona.edu/~bob/web_NSCS344/) by Robert C. Wilson, the [Neuromatch Academy tutorials](https://github.com/NeuromatchAcademy/course-content) [[CC BY 4.0](https://creativecommons.org/licenses/by/4.0/)], [Lockwood, et al. (2016)](https://doi.org/10.1073/pnas.1603198113), and [Lengersdorff, et al. (2020)](https://www.jneurosci.org/content/40/38/7286)"
   ]
  },
  {
   "cell_type": "markdown",
   "id": "discrete-amount",
   "metadata": {},
   "source": [
    "In this module, we will explore how to apply reinforcement learning and decision-making models to behavior in social contexts. In this framework, individuals rely on **prediction errors** (the difference between the actual outcome and the expected outcome) from sampling different options or actions that yield either positive or negative outcomes. In this way, individuals learn **value associations** between actions/options and their outcomes.\n",
    "\n",
    "While the majority of studies examining reinforcement learning examine how individuals learn the association betwwen actions/options and outcomes that affect themselves alone, recent studies have begun to test how the this framework could be applied in social contexts (i.e., when people learn various associations ***from others*** ([Lindström, et al., 2019](https://www.pnas.org/content/116/10/4732)) and ***for others*** ([Lockwood, et al., 2016](https://doi.org/10.1073/pnas.1603198113); [Lengersdorff, et al., 2020](https://www.jneurosci.org/content/40/38/7286)); or when people learn and update their beliefs ***about others*** ([Chang, et al., 2010](https://www.sciencedirect.com/science/article/abs/pii/S0010028510000150); [Siegel, et al., 2018](https://www.nature.com/articles/s41562-018-0425-1?WT.feed_name=subjects_social-science)).\n",
    "\n",
    "We have read about these first two types of learning in social contexts for far (and will begin learning about the third soon). Now, we will examine a specific type and unpack how this learning might change across different contexts/situations."
   ]
  },
  {
   "cell_type": "markdown",
   "id": "acoustic-morris",
   "metadata": {},
   "source": [
    "## Learning to win for others\n",
    "\n",
    "We will first review the model that best explained human behavior during a prosocial learning study, where individuals learned how their actions affected outcomes for **themselves**, a **stranger**, and **no one** ([Lockwood, et al., 2016](https://doi.org/10.1073/pnas.1603198113)).\n",
    "\n",
    "They tested the following three models:\n",
    "\n",
    "### Rescorla-Wagner Model w/ six free parameters (3α3θ)\n",
    "\n",
    "Expectations of future reward for action $a$, ($Q_{t+1}^{a}$), should be a function of current expectations $Q_{t}^{a}$ and a prediction error, which is discrepancy between the actual reward that has just been experienced on this trial $r_t$ (coded as 1 or 0 for reward or no reward, respectively) and the expected reward for this trial $t$, ($Q_{t}^{a}$):\n",
    "\n",
    "$$Q_{t+1}^{a} = Q_{t}^{a} + \\alpha \\cdot (r_{t} - Q_{t}^{a})$$\n",
    "\n",
    "where the learning rate $\\alpha$ controls the extent to which the current expected value is updated by new information. A low $\\alpha$ minimizes the influence of the prediction error and the amount that the value is updated. The probability that a subject chooses action $a$ on trial $t$, given the expected values of the available actions $Q_{t}^{a}$, is given by the softmax function:\n",
    "\n",
    "$$p_{t}(a | Q_{t}^{a}) = \\frac{\\exp(\\theta \\cdot Q_{t}^{a})}{\\sum_{a} \\exp(\\theta \\cdot Q_{t}^{a})}$$\n",
    "\n",
    "The inverse temperature parameter $\\theta$ controls extent to which the subject decides to choose the most rewarding option versus exploring potentially more rewarding actions. The softmax function estimates the trial-by-trial probability of each action by weighting the ratio of expected values by $\\theta$. A low $\\theta$ would lead to similar action probabilities irrespective of the expected value of each action (resulting in random behavior). A high $\\theta$ would lead to consistent behavior, where the action with the higher expected value is invariably selected on each trial.\n",
    "\n",
    "In this model, separate $\\alpha$ and $\\theta$ parameters were estimated for each of the self, prosocial, and no one conditions. This resulted in six free parameters: $\\alpha_{Self}$, $\\alpha_{Social}$, $\\alpha_{NoOne}$, $\\theta_{Self}$, $\\theta_{Social}$, $\\theta_{NoOne}$.\n",
    "\n",
    "### (Simple) Rescorla-Wagner Model w/ two free parameters (1α1θ)\n",
    "\n",
    "Expectations of future rewards followed the same criteria:\n",
    "\n",
    "$$Q_{t+1}^{a} = Q_{t}^{a} + \\alpha \\cdot (r_{t} - Q_{t}^{a})$$\n",
    "\n",
    "The probability that a subject chooses action $a$ on trial $t$, given the expected values of the available actions Q_{t}^{a}, is given by the softmax function:\n",
    "\n",
    "$$p_{t}(a | Q_{t}^{a}) = \\frac{\\exp(\\theta \\cdot Q_{t}^{a})}{\\sum_{a} \\exp(\\theta \\cdot Q_{t}^{a})}$$\n",
    "\n",
    "However, this model collapsed the $\\alpha$ and $\\theta$ parameters across each of the self, other, and no one conditions. This resulting in two free parameters: $\\alpha$, $\\theta$.\n",
    "\n",
    "\n",
    "### (Null) Rescorla-Wagner Model (1θ)\n",
    "\n",
    "This model assumed random responding across trials, and thus did not assume learning. The value for $\\alpha$ was set to 0 (equivalent to no learning), and the value for $\\theta$ was varied between $0$ and $\\infty$."
   ]
  },
  {
   "cell_type": "markdown",
   "id": "simplified-crossing",
   "metadata": {},
   "source": [
    "<hr width=50% align=center>"
   ]
  },
  {
   "cell_type": "markdown",
   "id": "native-pittsburgh",
   "metadata": {},
   "source": [
    "**What other models are plausible and could have been tested?**<br>Let's think of three additional models."
   ]
  },
  {
   "cell_type": "markdown",
   "id": "aboriginal-reservoir",
   "metadata": {},
   "source": [
    "1. (0α1θ): random responding governed by 1 $\\theta$\n",
    "2. (1α1θ): 1 $\\alpha$ for all three recipients, 1 $\\alpha$ for all three recipients\n",
    "3. (\\*\\*α\\*\\*): ?\n",
    "4. (\\*\\*α\\*\\*θ): ?\n",
    "5. (\\*\\*α\\*\\*θ): ?\n",
    "6. (3α3θ): $\\alpha_{Self}$, 1 $\\alpha_{Social}$, 1 $\\alpha_{NoOne}$, 1 $\\theta_{Self}$, 1 $\\theta_{Social}$, 1 $\\theta_{NoOne}$"
   ]
  },
  {
   "cell_type": "markdown",
   "id": "elect-nation",
   "metadata": {},
   "source": [
    "**Why might some of these other models perform better than the 3α3θ model?**"
   ]
  },
  {
   "cell_type": "markdown",
   "id": "transparent-polls",
   "metadata": {},
   "source": [
    "<hr>"
   ]
  },
  {
   "cell_type": "markdown",
   "id": "soviet-jaguar",
   "metadata": {},
   "source": [
    "## Time for an exercise!\n",
    "\n",
    "Now, you will complete a new prosocial learning task (<10 minutes). This task is similar to the task above. However, it varies along a few different dimensions. Your instructor will provide every student with a custom link to try it out. It will consist of one practice round and then four blocks of 24 trials each.\n",
    "\n",
    "During the task, you will play to maximize points for **yourself** and **another student** (randomly assigned) in the class. The points you earn be converted to __extra credit__, so be sure to try your best to maximize your earnings.\n",
    "\n",
    "Once everyone completes the task, you will be split up into breakout to discuss the following. Then, each group will report their conclusions to the entire class."
   ]
  },
  {
   "cell_type": "markdown",
   "id": "subjective-assurance",
   "metadata": {},
   "source": [
    "<hr>"
   ]
  },
  {
   "cell_type": "markdown",
   "id": "capable-mirror",
   "metadata": {},
   "source": [
    "## Reverse engineering the task\n",
    "\n",
    "Please save your answers to the following questions. They will be important for your final Jupyter Notebook exercise."
   ]
  },
  {
   "cell_type": "markdown",
   "id": "protective-router",
   "metadata": {},
   "source": [
    "1. What was different about this task? How did this difference affect learning and decision-making?\n",
    "2. What were the strategies you used when making decisions during this task? Were these strategies different across members of your group? How so? If not, brainstorm some other strategies that people could use. Do any common themes emerge? \n",
    "3. Choose one (or more) of these common themes, how can we manipulate the following model to accomodate behavior? Write down your new model. Does it make sense? Recall previous papers, tutorials, and lectures to come up with your **new model(s)**.\n",
    "\n",
    "<hr width=50% align=center>\n",
    "\n",
    "***Learning rule:***\n",
    "\n",
    "$$Q_{t+1}^{a} = Q_{t}^{a} + \\alpha \\cdot (r_{t} - Q_{t}^{a})$$\n",
    "\n",
    "***Decision rule:***\n",
    "\n",
    "$$p_{t}(a | Q_{t}^{a}) = \\frac{\\exp(\\theta \\cdot Q_{t}^{a})}{\\sum_{a} \\exp(\\theta \\cdot Q_{t}^{a})}$$\n",
    "\n",
    "<hr width=50% align=center>\n",
    "\n",
    "**Hint:** Think about what influenced your behavior. Did you care about anything other than the prediction error or the value associated with each? Did the valence of the outcomes matter (remember [Lengersdorff, et al. (2020)](https://www.jneurosci.org/content/40/38/7286))? Can additional parameters in your model help explain behavior?"
   ]
  },
  {
   "cell_type": "markdown",
   "id": "demonstrated-somalia",
   "metadata": {},
   "source": [
    "<hr>"
   ]
  },
  {
   "cell_type": "markdown",
   "id": "tracked-dealing",
   "metadata": {},
   "source": [
    "## Implementation of your model\n",
    "\n",
    "Now that you've discussed (1) the task, (2) possible explanations for behavior during the task, and (3) a mathematical explanation for your model(s), let's now write a function in Python for your model."
   ]
  },
  {
   "cell_type": "markdown",
   "id": "supported-stevens",
   "metadata": {},
   "source": [
    "***DELETE THIS TEXT AND DESCRIBE YOUR MODEL IN THIS MARKDOWN CELL***\n",
    "```\n",
    "def New_Model(params, choices, outcomes):\n",
    "    \n",
    "    \n",
    "    raise NotImplementedError(\"Student exercise: write a function to implement your new learning model based on discussions in your group. This function should assume three inputs: parameters to be estimated, choices across trials during the task, and outcomes related to those choices. It should return the negative loglikelihood determined by the choice probabilities across trials. You may use code from previous tutorials. Once you have completed this function, you may delete this line. Please email your instructor your code.\")\n",
    "    \n",
    "    \n",
    "    return negLL\n",
    "```"
   ]
  }
 ],
 "metadata": {
  "colab": {
   "collapsed_sections": []
  },
  "kernelspec": {
   "display_name": "Python 3",
   "language": "python",
   "name": "python3"
  },
  "language_info": {
   "codemirror_mode": {
    "name": "ipython",
    "version": 3
   },
   "file_extension": ".py",
   "mimetype": "text/x-python",
   "name": "python",
   "nbconvert_exporter": "python",
   "pygments_lexer": "ipython3",
   "version": "3.7.9"
  }
 },
 "nbformat": 4,
 "nbformat_minor": 5
}
